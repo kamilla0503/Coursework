{
 "cells": [
  {
   "cell_type": "code",
   "execution_count": 1,
   "metadata": {},
   "outputs": [],
   "source": [
    "import matplotlib.pyplot as plt\n",
    "import numpy as np \n",
    "from math import sqrt \n",
    "from math import floor\n",
    "from math import ceil\n",
    "from math import exp \n",
    "import pickle\n",
    "from operator import itemgetter\n",
    "import time\n",
    "from datetime import timedelta\n"
   ]
  },
  {
   "cell_type": "code",
   "execution_count": 2,
   "metadata": {},
   "outputs": [],
   "source": [
    "def filter_conformations(saws ): \n",
    "    \"\"\"Функция получает на вход список блужданий на плоскости, в котором каждое блуждание представлено списком из координат - кортежом.\n",
    "    Осуществляет перебор списка. Вызывает функцию distance_between_saws.\n",
    "    Возвращает список блужданий без повторения конформаций.\"\"\"\n",
    "    result = []\n",
    "    result.append(saws[0])\n",
    "    #result = [saws[0]]\n",
    "    for i in range (1, len(saws)):\n",
    "        if(i%100==0):\n",
    "            print(i, end= \" \")\n",
    "        k=0\n",
    "        for conformation in result:\n",
    "            if(  distance_between_saws(conformation, saws[i] )== 0):\n",
    "                k=-1\n",
    "                break;\n",
    "        if(k==-1):\n",
    "            continue\n",
    "        else:\n",
    "            #if(saws[i])\n",
    "            result.append(saws[i])\n",
    "    return result "
   ]
  },
  {
   "cell_type": "code",
   "execution_count": 3,
   "metadata": {},
   "outputs": [],
   "source": [
    "def vector_for_distance(saw):\n",
    "    \"\"\"Принимает на вход конформацию(блуждание) на плоскости - список координат(кортежей).\n",
    "    Возвращает вектор, описывающий данную конформацию, согласно [1]\"\"\"\n",
    "    result = []\n",
    "    left = [[(0,1), (-1, 0)] , [(1, 0), (0, 1)], [(0, -1), (1, 0)], [(-1, 0), (0, -1)] ]\n",
    "    right = [ [(1, 0), (0, -1)], [(0,1), (1, 0)],  [(-1, 0), (0, 1)],  [(0, -1), (-1, 0)]  ]\n",
    "    for i in range(2, len(saw)):\n",
    "        steps = []\n",
    "        dx = saw[i-1][0] - saw[i-2][0]\n",
    "        dy =  saw[i-1][1] - saw[i-2][1]\n",
    "        steps.append((dx, dy))\n",
    "        dx = saw[i][0] - saw[i-1][0]\n",
    "        dy =  saw[i][1] - saw[i-1][1]\n",
    "        steps.append((dx, dy))\n",
    "        if(saw[i][0] == saw[i-1][0] and saw[i-1][0]==saw[i-2][0] or saw[i][1] == saw[i-1][1] and saw[i-1][1]==saw[i-2][1]):\n",
    "            result.append(0)\n",
    "        elif (steps in left):\n",
    "            result.append(-1)\n",
    "        else:\n",
    "            result.append(1)\n",
    "    return result "
   ]
  },
  {
   "cell_type": "code",
   "execution_count": 4,
   "metadata": {},
   "outputs": [],
   "source": [
    "def distance_between_saws(saw1, saw2):\n",
    "    \"\"\"Принимает на вход два блуждания(конформации) на плоскости и возвращает целое число - расстояние между ними согласно метрике, описанной в [1].\n",
    "    Вызывает функцию vector_for_distance для каждого переданного блуждания\"\"\"\n",
    "    v1 = 0\n",
    "    v2 = 0\n",
    "    v_minus = []\n",
    "    v_plus = [] \n",
    "    s1 =  vector_for_distance(saw1)\n",
    "    s2= vector_for_distance(saw2)\n",
    "    for i in range(len(s1)):\n",
    "        v1=v1+ abs( s1[i]-s2[i])\n",
    "        v2=v2+ abs( s1[i]+s2[i])\n",
    "    #print(saw1, \" \", s1)\n",
    "    #print(saw2, \" \", s2)\n",
    "    #print(min(v1, v2))\n",
    "    return min(v1, v2)"
   ]
  },
  {
   "cell_type": "code",
   "execution_count": 5,
   "metadata": {},
   "outputs": [],
   "source": [
    "steps = [(1, 0), (-1, 0), (0, 1),  (0, -1)]\n",
    "def get_all_conformations(length):\n",
    "    \"\"\"Создает список конформаций на плоскости.  Функция принимает один аргумент - длину (число остатков).\n",
    "    Возвращает список блужданий, в котором каждое блуждание представлено списком из координат\n",
    "    Данный вариант работает для длин равных или больше 3.\"\"\"\n",
    "    #if(length==3):\n",
    "        #return [[(0, 0), (1, 0), (2, 0)], [(0, 0), (1, 0), (1, 1)]]\n",
    "    if(length==2):\n",
    "        return [[(0, 0), (1, 0)], ]\n",
    "    else:\n",
    "        result = get_all_conformations(length-1)\n",
    "        new_conformations = [] \n",
    "        for i in range(len(result)):\n",
    "            #print(i, end = \"\\n\")\n",
    "            for step in steps:\n",
    "                new_point = (result[i][-1][0]+step[0], result[i][-1][1]+step[1] )\n",
    "                if new_point in result[i]:\n",
    "                    #print(\"the same \", new_point)\n",
    "                    continue\n",
    "                temp = result[i].copy()\n",
    "                temp.append(new_point)\n",
    "                new_conformations.append(temp)\n",
    "        #print(length, \" new  result is  \", new_conformations )\n",
    "    filtered = filter_conformations(new_conformations)\n",
    "    #print(\"after filter \", filtered)\n",
    "    return filtered"
   ]
  },
  {
   "cell_type": "code",
   "execution_count": 6,
   "metadata": {},
   "outputs": [
    {
     "name": "stdout",
     "output_type": "stream",
     "text": [
      "100 200 100 200 300 400 500 600 700 100 200 300 400 500 600 700 800 900 1000 1100 1200 1300 1400 1500 1600 1700 1800 1900 2000 0:00:43.950078\n",
      "2034\n",
      "all\n"
     ]
    },
    {
     "ename": "NameError",
     "evalue": "name 'get_all_saws' is not defined",
     "output_type": "error",
     "traceback": [
      "\u001b[0;31m---------------------------------------------------------------------------\u001b[0m",
      "\u001b[0;31mNameError\u001b[0m                                 Traceback (most recent call last)",
      "\u001b[0;32m<ipython-input-6-3e90183b0c54>\u001b[0m in \u001b[0;36m<module>\u001b[0;34m\u001b[0m\n\u001b[1;32m     11\u001b[0m \u001b[0msaws_set\u001b[0m \u001b[0;34m=\u001b[0m\u001b[0;34m[\u001b[0m\u001b[0;34m]\u001b[0m\u001b[0;34m\u001b[0m\u001b[0;34m\u001b[0m\u001b[0m\n\u001b[1;32m     12\u001b[0m \u001b[0mprint\u001b[0m\u001b[0;34m(\u001b[0m\u001b[0;34m'all'\u001b[0m\u001b[0;34m)\u001b[0m\u001b[0;34m\u001b[0m\u001b[0;34m\u001b[0m\u001b[0m\n\u001b[0;32m---> 13\u001b[0;31m \u001b[0mget_all_saws\u001b[0m\u001b[0;34m(\u001b[0m\u001b[0msaws_set\u001b[0m\u001b[0;34m,\u001b[0m \u001b[0;36m6\u001b[0m\u001b[0;34m,\u001b[0m\u001b[0mstart_conformation\u001b[0m\u001b[0;34m)\u001b[0m\u001b[0;34m\u001b[0m\u001b[0;34m\u001b[0m\u001b[0m\n\u001b[0m\u001b[1;32m     14\u001b[0m \u001b[0mprint\u001b[0m\u001b[0;34m(\u001b[0m\u001b[0mlen\u001b[0m\u001b[0;34m(\u001b[0m\u001b[0msaws_set\u001b[0m\u001b[0;34m)\u001b[0m\u001b[0;34m)\u001b[0m\u001b[0;34m\u001b[0m\u001b[0;34m\u001b[0m\u001b[0m\n\u001b[1;32m     15\u001b[0m \u001b[0;31m#print(saws_set)\u001b[0m\u001b[0;34m\u001b[0m\u001b[0;34m\u001b[0m\u001b[0;34m\u001b[0m\u001b[0m\n",
      "\u001b[0;31mNameError\u001b[0m: name 'get_all_saws' is not defined"
     ]
    }
   ],
   "source": [
    "start_time = time.monotonic()\n",
    "\n",
    "conformations_10= get_all_conformations(10)\n",
    "\n",
    "end_time = time.monotonic()\n",
    "print(timedelta(seconds=end_time - start_time))\n",
    "#print(conformations_10)\n",
    "print(len(conformations_10))\n",
    "\n",
    "start_conformation = [(0,0)]\n",
    "saws_set =[]\n",
    "print('all')\n",
    "get_all_saws(saws_set, 6,start_conformation)\n",
    "print(len(saws_set))\n",
    "#print(saws_set)\n",
    "\n",
    "#for i in range(len(saws_set)):\n",
    "#    for j in conformations_10:\n",
    "#        if j==saws_set[i]:\n",
    "#            print(i)\n",
    "\n",
    "\n",
    "#3 0 and 1\n",
    "#"
   ]
  },
  {
   "cell_type": "markdown",
   "metadata": {},
   "source": [
    "Для длины 10 получается 2034 конформации. Точно такой же результат описан в [1]"
   ]
  },
  {
   "cell_type": "code",
   "execution_count": 20,
   "metadata": {},
   "outputs": [
    {
     "data": {
      "text/plain": [
       "100"
      ]
     },
     "execution_count": 20,
     "metadata": {},
     "output_type": "execute_result"
    }
   ],
   "source": [
    "13*8-4"
   ]
  },
  {
   "cell_type": "code",
   "execution_count": 7,
   "metadata": {},
   "outputs": [],
   "source": [
    "with open('out_10.pickle', 'wb') as f:\n",
    "    pickle.dump(conformations_10, f)"
   ]
  },
  {
   "cell_type": "code",
   "execution_count": 7,
   "metadata": {},
   "outputs": [
    {
     "name": "stdout",
     "output_type": "stream",
     "text": [
      "3  finished 4  finished 5  finished 6  finished 7  finished 100 200 8  finished 100 200 100 200 300 400 500 600 700 9  finished 100 200 100 200 300 400 500 600 700 100 200 300 400 500 600 700 800 900 1000 1100 1200 1300 1400 1500 1600 1700 1800 1900 2000 10  finished "
     ]
    }
   ],
   "source": [
    "number_of_conformations=[]\n",
    "for i in range(3, 11):\n",
    "    c = get_all_conformations(i)\n",
    "    number_of_conformations.append(len(c))\n",
    "    print(i, \" finished\", end = \" \")"
   ]
  },
  {
   "cell_type": "code",
   "execution_count": 10,
   "metadata": {},
   "outputs": [],
   "source": [
    "approximate = []\n",
    "two =[]\n",
    "for i in range(3, 11):\n",
    "    approximate.append(2.718**(i-1))\n",
    "    two.append(2**i)"
   ]
  },
  {
   "cell_type": "code",
   "execution_count": 11,
   "metadata": {},
   "outputs": [
    {
     "data": {
      "text/plain": [
       "<matplotlib.legend.Legend at 0x7fe3fc28f9b0>"
      ]
     },
     "execution_count": 11,
     "metadata": {},
     "output_type": "execute_result"
    },
    {
     "data": {
      "image/png": "[encoded data removed]",
      "text/plain": [
       "<Figure size 432x288 with 1 Axes>"
      ]
     },
     "metadata": {
      "needs_background": "light"
     },
     "output_type": "display_data"
    }
   ],
   "source": [
    "plt.plot(range(3, 11), number_of_conformations, 'o', label = \"Число конформаций \")\n",
    "plt.plot(range(3, 11), approximate, 'o', label = \" 2.718^(n-1) \", alpha = 0.5)\n",
    "plt.plot(range(3, 11), two, 'o', label = \" 2.^(n-1) \", alpha=0.4)\n",
    "plt.legend(loc='best')"
   ]
  },
  {
   "cell_type": "markdown",
   "metadata": {},
   "source": [
    "Число конформаций (блужданий без самопересечений) растет экспоненциально. Это также показывается во второй главе [2]"
   ]
  },
  {
   "cell_type": "code",
   "execution_count": 12,
   "metadata": {},
   "outputs": [],
   "source": [
    "def end_to_end_distance(path):\n",
    "    \"\"\"Евклидова метрика\"\"\"\n",
    "    distance = sqrt((path[-1][0]-path[0][0])**2+(path[-1][1]-path[0][1])**2)     \n",
    "    return distance "
   ]
  },
  {
   "cell_type": "code",
   "execution_count": 13,
   "metadata": {},
   "outputs": [],
   "source": [
    "def end_to_end_vector(vector1, vector2):\n",
    "    \"Просто вектор, сосединяющий начало и конец \"\n",
    "    return( vector2[0]-vector1[0], vector2[1]-vector1[1])"
   ]
  },
  {
   "cell_type": "code",
   "execution_count": 14,
   "metadata": {},
   "outputs": [],
   "source": [
    "steps = [(1, 0), (-1, 0), (0, 1),  (0, -1)]\n",
    "def calculate_contacts(saw):\n",
    "    \"\"\"Функция принимает на вход конформацию на плоскости(список координат). \n",
    "    Возвращает число топологических соседей для нее \"\"\"\n",
    "    k=0\n",
    "    for i in range(1, len(saw)-1):\n",
    "        not_topological=[saw[i-1], saw[i+1]]\n",
    "        for step in steps:\n",
    "            new_point = (saw[i][0]+step[0], saw[i][1]+step[1] )\n",
    "            if (new_point in saw and (new_point not in not_topological)):\n",
    "                k=k+1\n",
    "    for step in steps:\n",
    "        new_point_begin = (saw[0][0]+step[0], saw[0][1]+step[1] )\n",
    "        new_point_end= ( saw[-1][0]+step[0], saw[-1][1]+step[1])\n",
    "        if(new_point_begin in saw and new_point_begin!=saw[1]):\n",
    "            k=k+1\n",
    " \n",
    "        if( new_point_end in saw and new_point_end!=saw[-2]    ):\n",
    "            k=k+1\n",
    "        \n",
    "        \n",
    "    return k//2\n",
    "        "
   ]
  },
  {
   "cell_type": "code",
   "execution_count": 15,
   "metadata": {},
   "outputs": [
    {
     "data": {
      "text/plain": [
       "[(0, 0),\n",
       " (1, 0),\n",
       " (2, 0),\n",
       " (3, 0),\n",
       " (4, 0),\n",
       " (5, 0),\n",
       " (5, 1),\n",
       " (4, 1),\n",
       " (3, 1),\n",
       " (3, 2)]"
      ]
     },
     "execution_count": 15,
     "metadata": {},
     "output_type": "execute_result"
    }
   ],
   "source": [
    "e=22\n",
    "conformations_10[e]"
   ]
  },
  {
   "cell_type": "code",
   "execution_count": 10,
   "metadata": {},
   "outputs": [
    {
     "data": {
      "text/plain": [
       "2"
      ]
     },
     "execution_count": 10,
     "metadata": {},
     "output_type": "execute_result"
    }
   ],
   "source": [
    "calculate_contacts(conformations_10[e])"
   ]
  },
  {
   "cell_type": "code",
   "execution_count": 16,
   "metadata": {},
   "outputs": [],
   "source": [
    "def count_saws_contact(saws):\n",
    "    \"\"\"Функция принимает список блужданий на плоскости. Возвращает словарь, в котором ключ - число топологических соседей,\n",
    "    а значение - число таких конформаций.\n",
    "    Максимальное число топологических соседей находится по формуле из [1]\"\"\"\n",
    "    n=len(saws[0])\n",
    "    m_1 = ceil(sqrt(n))\n",
    "    m = floor(sqrt(n))\n",
    "    if( n>m*m and m*m_1>=n ):\n",
    "        t_max =n+1 - (4*m+2)/2\n",
    "    elif (n>m*m_1 and n<=m_1*m_1):\n",
    "        t_max = n+1 - (4*m+4)/2\n",
    "    else:\n",
    "        t_max =  n+1 - (4*m)/2\n",
    "    \n",
    "    t_max=int(t_max)\n",
    "    print(t_max)\n",
    "    counts ={}\n",
    "    for i in range(t_max+1):\n",
    "        counts.update({i :0})\n",
    "    for saw in saws:\n",
    "        e=calculate_contacts(saw)\n",
    "        counts[e]=counts[e]+1\n",
    "    return counts"
   ]
  },
  {
   "cell_type": "code",
   "execution_count": 17,
   "metadata": {},
   "outputs": [
    {
     "name": "stdout",
     "output_type": "stream",
     "text": [
      "4\n",
      "{0: 666, 1: 672, 2: 425, 3: 173, 4: 98}\n"
     ]
    }
   ],
   "source": [
    "d = count_saws_contact(conformations_10)\n",
    "print(d)"
   ]
  },
  {
   "cell_type": "markdown",
   "metadata": {},
   "source": [
    "666 + 672 + 425 + 173 + 98 = 2034"
   ]
  },
  {
   "cell_type": "code",
   "execution_count": 17,
   "metadata": {},
   "outputs": [
    {
     "data": {
      "image/png": "[encoded data removed]",
      "text/plain": [
       "<Figure size 432x288 with 1 Axes>"
      ]
     },
     "metadata": {
      "needs_background": "light"
     },
     "output_type": "display_data"
    }
   ],
   "source": [
    "plt.bar(list(d.keys()), d.values(), color='g')\n",
    "plt.show()"
   ]
  },
  {
   "cell_type": "markdown",
   "metadata": {},
   "source": [
    "Гистограмма показывает, сколько существует различных конформаций для данного числа топологических соседей. \n",
    "Я сравнила эту гистаграмма с гистограммой из статьи (там она показана для последовательности из H), все нормально "
   ]
  },
  {
   "cell_type": "code",
   "execution_count": 11,
   "metadata": {},
   "outputs": [],
   "source": [
    "def get_sequences(length):\n",
    "    \"\"\"Получаем все последовательности заданной длины, состоящие из 0 и 1.\n",
    "    1 - это H\n",
    "    0 - это Р\"\"\"\n",
    "    if(length ==1):\n",
    "        return [[0], [1]]\n",
    "    else:\n",
    "        previous = get_sequences(length - 1)\n",
    "        result = [] \n",
    "        for i in range(len(previous)):\n",
    "            current = previous[i].copy()\n",
    "            current.append(0)\n",
    "            result.append(current.copy())\n",
    "            current[-1] = 1\n",
    "            result.append(current)\n",
    "            #print(result) \n",
    "        return result\n"
   ]
  },
  {
   "cell_type": "code",
   "execution_count": 18,
   "metadata": {},
   "outputs": [],
   "source": [
    "class Protein(object):\n",
    "    def __init__(self, sequence, conformation):\n",
    "        self.sequence = sequence\n",
    "        self.conformation = conformation\n",
    "        \n",
    "    def count_proteins_contacts(self):\n",
    "        \"\"\"Для данного белка считает число топологических контактов HH и контакты HP/PP.\n",
    "        Возвращает кортеж из двух элементов: первый элемент - число контактов НН, второй элемент - остальные контакты.\"\"\"\n",
    "        hh=0\n",
    "        hp_pp = 0\n",
    "        steps = [(1, 0), (-1, 0), (0, 1),  (0, -1)]\n",
    "        for i in range(1, len(self.conformation)-1):\n",
    "            not_topological=[self.conformation [i-1], self.conformation[i+1]]\n",
    "            for step in steps:\n",
    "                new_point = (self.conformation[i][0]+step[0], self.conformation [i][1]+step[1] )\n",
    "                if (new_point in self.conformation  and (new_point not in not_topological)):\n",
    "                    position = self.conformation.index(new_point)\n",
    "                    if( self.sequence[position]==1 and self.sequence[i]==1 ):\n",
    "                        hh=hh+1\n",
    "                    else:\n",
    "                        hp_pp=hp_pp + 1 \n",
    "        for step in steps:\n",
    "            new_point_begin = (self.conformation[0][0]+step[0], self.conformation[0][1]+step[1] )\n",
    "            new_point_end= ( self.conformation[-1][0]+step[0], self.conformation [-1][1]+step[1])\n",
    "            if(new_point_begin in self.conformation  and new_point_begin!=self.conformation [1]):\n",
    "                position = self.conformation.index(new_point_begin)\n",
    "                if( self.sequence[position]==1 and self.sequence[0]==1 ):\n",
    "                    hh=hh+1\n",
    "                else:\n",
    "                    hp_pp=hp_pp + 1 \n",
    "            if( new_point_end in self.conformation  and new_point_end!=self.conformation[-2]):\n",
    "                position = self.conformation.index(new_point_end) \n",
    "                if( self.sequence[position]==1 and self.sequence[-1]==1 ):\n",
    "                    hh=hh+1\n",
    "                else:\n",
    "                    hp_pp=hp_pp + 1 \n",
    "        return (hh//2, hp_pp//2)\n",
    "    \n",
    "    \n"
   ]
  },
  {
   "cell_type": "code",
   "execution_count": 22,
   "metadata": {},
   "outputs": [
    {
     "name": "stdout",
     "output_type": "stream",
     "text": [
      "1024\n",
      "[0, 0, 0, 0, 0, 0, 0, 1, 0, 0]\n",
      "7\n"
     ]
    }
   ],
   "source": [
    "sequences_10 = sorted(get_sequences(10))\n",
    "print(len(sequences_10))\n",
    "print(sequences_10[4] )\n",
    "w = sequences_10[4].index(1)\n",
    "print(w)"
   ]
  },
  {
   "cell_type": "code",
   "execution_count": 23,
   "metadata": {},
   "outputs": [
    {
     "name": "stdout",
     "output_type": "stream",
     "text": [
      "[0, 1, 1, 1, 1, 1, 0, 1, 0, 0] [(0, 0), (1, 0), (2, 0), (2, 1), (3, 1), (3, 2), (4, 2), (4, 1), (4, 0), (3, 0)]\n",
      "(1, 2)\n"
     ]
    }
   ],
   "source": [
    "#Пример класса Protein \n",
    "p = Protein(sequences_10[500], conformations_10[347])\n",
    "print(p.sequence, p.conformation)\n",
    "c = p.count_proteins_contacts()\n",
    "print(c)"
   ]
  },
  {
   "cell_type": "code",
   "execution_count": 19,
   "metadata": {},
   "outputs": [],
   "source": [
    "def get_g_m(sequence, conformations=[]):\n",
    "    \"\"\"Функция, которая для данной цепочки создает словарь со следующим смыслом:\n",
    "    ключ - число топологических соседей НН,\n",
    "    значение - число конформаций с таким количеством топологических соседей НН для данной цепочки. \n",
    "    Функция принимает готовый список конформаций, иначе сгенерирует его сама \"\"\" \n",
    "    n=len(sequence)\n",
    "    m_1 = ceil(sqrt(n))\n",
    "    m = floor(sqrt(n))\n",
    "    if( n>m*m and m*m_1>=n ):\n",
    "        t_max =n+1 - (4*m+2)/2\n",
    "    elif (n>m*m_1 and n<=m_1*m_1):\n",
    "        t_max = n+1 - (4*m+4)/2\n",
    "    else:\n",
    "        t_max =  n+1 - (4*m)/2\n",
    "    \n",
    "    t_max=int(t_max) \n",
    "    counts ={}\n",
    "    #for i in range(t_max+1):\n",
    "        #counts.update({i :0})\n",
    "    if(len(conformations)==0):\n",
    "        conformations = get_all_conformations(len(sequence))\n",
    "    for c in conformations:\n",
    "        p = Protein(sequence, c)\n",
    "        numbers =  p.count_proteins_contacts();\n",
    "        if( numbers[0] in counts): \n",
    "            counts[numbers[0]] = counts[numbers[0]] +1\n",
    "        else:\n",
    "            counts.update({numbers[0] :1})\n",
    "    \n",
    "    \n",
    "    \n",
    "    return counts \n",
    "    \n",
    "    \n",
    "    "
   ]
  },
  {
   "cell_type": "code",
   "execution_count": 20,
   "metadata": {},
   "outputs": [],
   "source": [
    "def get_G_m_u(sequence, conformations=[]):\n",
    "    \"\"\"Функция, которая для данной цепочки создает словарь со следующим смыслом:\n",
    "    ключ - кортеж из двух элементов: 1)число топологических соседей НН 2)Число остальных топологических соседей ,\n",
    "    значение - конформаций с такими количествами топологических соседей. \n",
    "    Функция принимает готовый список конформаций, иначе сгенерирует его сама \"\"\" \n",
    "    n=len(sequence)\n",
    "    m_1 = ceil(sqrt(n))\n",
    "    m = floor(sqrt(n))\n",
    "    if( n>m*m and m*m_1>=n ):\n",
    "        t_max =n+1 - (4*m+2)/2\n",
    "    elif (n>m*m_1 and n<=m_1*m_1):\n",
    "        t_max = n+1 - (4*m+4)/2\n",
    "    else:\n",
    "        t_max =  n+1 - (4*m)/2\n",
    "    \n",
    "    t_max=int(t_max) \n",
    "    if(len(conformations)==0):\n",
    "        conformations = get_all_conformations(len(sequence))\n",
    "    counts ={}\n",
    "    #for i in range(t_max+1):\n",
    "        #for j in range(t_max+1):\n",
    "            #counts.update({ (i, j) :0})\n",
    "    for c in conformations:\n",
    "        p = Protein(sequence, c)\n",
    "        numbers =  p.count_proteins_contacts();\n",
    "        if( numbers in counts): \n",
    "            counts[numbers] = counts[numbers] +1\n",
    "        else:\n",
    "            counts.update({numbers :1})\n",
    "    \n",
    "        \n",
    "    return counts "
   ]
  },
  {
   "cell_type": "code",
   "execution_count": 234,
   "metadata": {},
   "outputs": [
    {
     "name": "stdout",
     "output_type": "stream",
     "text": [
      "100 200 100 200 300 400 500 600 700 100 200 300 400 500 600 700 800 900 1000 1100 1200 1300 1400 1500 1600 1700 1800 1900 2000 {0: 666, 1: 672, 2: 425, 3: 173, 4: 98}\n"
     ]
    }
   ],
   "source": [
    "z = get_g_m([1, 1, 1, 1, 1, 1, 1,1,1,1] )\n",
    "print(z)"
   ]
  },
  {
   "cell_type": "markdown",
   "metadata": {},
   "source": [
    "Это точно правильный результат согласно [1]\n"
   ]
  },
  {
   "cell_type": "code",
   "execution_count": 28,
   "metadata": {},
   "outputs": [
    {
     "name": "stdout",
     "output_type": "stream",
     "text": [
      "finished\n",
      "{0: 1435, 1: 513, 2: 75, 3: 10, 4: 1}\n"
     ]
    }
   ],
   "source": [
    "example_of_sequence = [1, 0, 1, 0, 0, 1, 0,0,1,1]  \n",
    "new_example = get_g_m(example_of_sequence, conformations_10)\n",
    "print(\"finished\")\n",
    "print(new_example )"
   ]
  },
  {
   "cell_type": "code",
   "execution_count": 29,
   "metadata": {},
   "outputs": [
    {
     "data": {
      "image/png": "[encoded data removed]",
      "text/plain": [
       "<Figure size 432x288 with 1 Axes>"
      ]
     },
     "metadata": {
      "needs_background": "light"
     },
     "output_type": "display_data"
    }
   ],
   "source": [
    "plt.bar(list(new_example.keys()), new_example.values(), color='b')\n",
    "plt.show()"
   ]
  },
  {
   "cell_type": "markdown",
   "metadata": {},
   "source": [
    "Это диаграмма функции g(m) для последовательности НРНРРНРРНН. \n",
    "х -число топологических контактов НН, у - число таких конформаций.\n"
   ]
  },
  {
   "cell_type": "code",
   "execution_count": 192,
   "metadata": {},
   "outputs": [
    {
     "name": "stdout",
     "output_type": "stream",
     "text": [
      "{0: 1461, 1: 573, 2: 0, 3: 0, 4: 0}\n",
      "finished\n"
     ]
    }
   ],
   "source": [
    "example_of_sequence = [0, 0, 0, 0, 0, 1, 1,1,1,1] \n",
    "new_example = get_g_m(example_of_sequence, conformations_10)\n",
    "print(new_example)\n",
    "print(\"finished\") "
   ]
  },
  {
   "cell_type": "code",
   "execution_count": 193,
   "metadata": {},
   "outputs": [
    {
     "data": {
      "image/png": "[encoded data removed]",
      "text/plain": [
       "<Figure size 432x288 with 1 Axes>"
      ]
     },
     "metadata": {
      "needs_background": "light"
     },
     "output_type": "display_data"
    }
   ],
   "source": [
    "plt.bar(list(new_example.keys()), new_example.values(), color='b')\n",
    "plt.show()"
   ]
  },
  {
   "cell_type": "markdown",
   "metadata": {},
   "source": [
    "Это функция g(m) для последовательности PPPPPHHHHH. \n",
    "Диаграммы выглядят прям как в статье [1]"
   ]
  },
  {
   "cell_type": "code",
   "execution_count": 21,
   "metadata": {},
   "outputs": [],
   "source": [
    "def partition_function(sequence,  e, conformations=[]):\n",
    "    \"\"\"Cтатистическая функция. Принимает последовательность и значение е<0 - значение энергии \n",
    "    взаимодействия между топологическими НН.\n",
    "    Также принимает список конформаций длины данной цепочки, иначе сгенерирует его сама.\"\"\"\n",
    "    if(len(conformations)==0):\n",
    "        conformations = get_all_conformations(len(sequence))\n",
    "    degeneracy = get_g_m( sequence, conformations )\n",
    "    s=max(degeneracy.keys())\n",
    "    Z = 0 \n",
    "    for m, g in degeneracy.items():\n",
    "        Z=Z + g*exp((s-m)*e)\n",
    "        \n",
    "    return Z"
   ]
  },
  {
   "cell_type": "code",
   "execution_count": 22,
   "metadata": {},
   "outputs": [
    {
     "name": "stdout",
     "output_type": "stream",
     "text": [
      "574.4459581034023\n"
     ]
    }
   ],
   "source": [
    "a =partition_function([0, 0, 0, 0, 0, 0, 1,0,0,1] , -2, conformations_10)\n",
    "print(a)"
   ]
  },
  {
   "cell_type": "code",
   "execution_count": 23,
   "metadata": {},
   "outputs": [],
   "source": [
    "def mean_compactness(sequence,  e, conformations=[]):\n",
    "    if(len(conformations)==0):\n",
    "        conformations = get_all_conformations(len(sequence))\n",
    "      \n",
    "    \n",
    "    n=len(sequence)\n",
    "    m_1 = ceil(sqrt(n))\n",
    "    m = floor(sqrt(n))\n",
    "    if( n>m*m and m*m_1>=n ):\n",
    "        t_max =n+1 - (4*m+2)/2\n",
    "    elif (n>m*m_1 and n<=m_1*m_1):\n",
    "        t_max = n+1 - (4*m+4)/2\n",
    "    else:\n",
    "        t_max =  n+1 - (4*m)/2\n",
    "    \n",
    "    t_max=int(t_max) \n",
    "    \n",
    "    G_m = get_G_m_u(sequence, conformations)\n",
    "    s= max(G_m.keys(), key=itemgetter(0) )[0]\n",
    "\n",
    "    p=0\n",
    "    for neighbors, g in G_m.items():\n",
    "        p=p+(neighbors[0] +neighbors[1])/t_max*g * exp(( s - neighbors[0])*e)\n",
    "    return p/partition_function( sequence,  e, conformations)"
   ]
  },
  {
   "cell_type": "code",
   "execution_count": 24,
   "metadata": {},
   "outputs": [
    {
     "name": "stdout",
     "output_type": "stream",
     "text": [
      "0.34318715505185976\n"
     ]
    }
   ],
   "source": [
    "w = mean_compactness([0, 0, 0, 0, 0, 0, 1,0,0,1] , -1, conformations_10)\n",
    "print(w)"
   ]
  },
  {
   "cell_type": "code",
   "execution_count": 274,
   "metadata": {},
   "outputs": [
    {
     "name": "stdout",
     "output_type": "stream",
     "text": [
      "finish\n"
     ]
    }
   ],
   "source": [
    "es = np.linspace(0, 8, 20)\n",
    "example_of_sequence1 = [1, 0, 1, 0, 0, 1, 0,0,1,1] \n",
    "example_of_sequence2 =  [0, 0, 0, 0, 0, 0, 1,0,0,1] \n",
    "meancompactnesses1 = []\n",
    "meancompactnesses2 = [] \n",
    "for i in es: \n",
    "    w = mean_compactness(example_of_sequence1, -i, conformations_10)\n",
    "    meancompactnesses1.append(w)\n",
    "    w1= mean_compactness(example_of_sequence2, -i, conformations_10)\n",
    "    meancompactnesses2.append(w1)\n",
    "print(\"finish\")\n"
   ]
  },
  {
   "cell_type": "code",
   "execution_count": 275,
   "metadata": {},
   "outputs": [
    {
     "data": {
      "text/plain": [
       "<matplotlib.legend.Legend at 0x7f4c145b7fd0>"
      ]
     },
     "execution_count": 275,
     "metadata": {},
     "output_type": "execute_result"
    },
    {
     "data": {
      "image/png": "[encoded data removed]",
      "text/plain": [
       "<Figure size 432x288 with 1 Axes>"
      ]
     },
     "metadata": {
      "needs_background": "light"
     },
     "output_type": "display_data"
    }
   ],
   "source": [
    "plt.plot(es, meancompactnesses1, '-', label = \"Mean compactness\")\n",
    "plt.legend(loc='best')"
   ]
  },
  {
   "cell_type": "markdown",
   "metadata": {},
   "source": [
    "По оси Х отложены -е. \n",
    "Это график зависимости средней компактности от значения энергии для последовательности НРНРРНРРНН. Такая последовательность может свернуться. "
   ]
  },
  {
   "cell_type": "code",
   "execution_count": 276,
   "metadata": {},
   "outputs": [
    {
     "data": {
      "text/plain": [
       "<matplotlib.legend.Legend at 0x7f4c1450b588>"
      ]
     },
     "execution_count": 276,
     "metadata": {},
     "output_type": "execute_result"
    },
    {
     "data": {
      "image/png": "[encoded data removed]",
      "text/plain": [
       "<Figure size 432x288 with 1 Axes>"
      ]
     },
     "metadata": {
      "needs_background": "light"
     },
     "output_type": "display_data"
    }
   ],
   "source": [
    "plt.plot(es, meancompactnesses2, '-', label = \"Mean compactness\")\n",
    "plt.legend(loc='best')"
   ]
  },
  {
   "cell_type": "markdown",
   "metadata": {},
   "source": [
    "Это график зависимости средней компактности от значения энергии для последовательности  PPPPPHHHHH. Такая последовательность не свернется. "
   ]
  },
  {
   "cell_type": "markdown",
   "metadata": {},
   "source": [
    "# Поиск радиуса вращения\n",
    "\n",
    "Формулы брала в [3], источник возможно не самый топовый, но не нашла понятного для себя описания в [2]\n"
   ]
  },
  {
   "cell_type": "code",
   "execution_count": 28,
   "metadata": {},
   "outputs": [],
   "source": [
    "def center_of_mass(conformation):\n",
    "    \"\"\"Функция для нахождения координат центра масс.\n",
    "    Подразумевается, что все аминокислоты в молекуле одинаковой массы, а между ними ничего с массой нет.\n",
    "    Принимает конформацию - список из координат, возвращает координаты в виде коортежа.\n",
    "    \"\"\"\n",
    "    x=0\n",
    "    y=0\n",
    "    for i in range(len(conformation)):\n",
    "        x=x+(conformation[i][0]-conformation[0][0])\n",
    "        y=y+(conformation[i][1]-conformation[0][1])\n",
    "        \n",
    "    return (x/len(conformation), y/len(conformation)) \n"
   ]
  },
  {
   "cell_type": "code",
   "execution_count": 29,
   "metadata": {},
   "outputs": [],
   "source": [
    "def square_radius_of_gyration(conformation):\n",
    "    \"\"\"Функция возвращает радиус вращения для данной конформации \"\"\"\n",
    "    cent_mass=center_of_mass(conformation)\n",
    "    summa=0\n",
    "    for i in range(len(conformation)):\n",
    "        dist = (conformation[i][0]-cent_mass[0],  conformation[i][1]-cent_mass[1])\n",
    "        summa=summa+dist[0]*dist[0]+dist[1]*dist[1]\n",
    "    return summa/len(conformation)\n",
    "    \n",
    "    "
   ]
  },
  {
   "cell_type": "code",
   "execution_count": 30,
   "metadata": {},
   "outputs": [
    {
     "name": "stdout",
     "output_type": "stream",
     "text": [
      "[(0, 0), (1, 0), (2, 0), (2, 1), (2, 2), (2, 3), (3, 3), (4, 3), (4, 2), (3, 2)]\n",
      "(2.3, 1.6)\n",
      "2.8500000000000005\n"
     ]
    }
   ],
   "source": [
    "a=654\n",
    "print(conformations_10[a])\n",
    "\n",
    "q = center_of_mass(conformations_10[a])\n",
    "print(q)\n",
    "sq = square_radius_of_gyration( conformations_10[a]  )\n",
    "print(sq)"
   ]
  },
  {
   "cell_type": "code",
   "execution_count": 31,
   "metadata": {},
   "outputs": [
    {
     "name": "stdout",
     "output_type": "stream",
     "text": [
      "3.324434611602767\n"
     ]
    }
   ],
   "source": [
    "\n",
    "mean_square_r=0\n",
    "for conf in conformations_10:\n",
    "    mean_square_r = mean_square_r+square_radius_of_gyration(conf)\n",
    "\n",
    "print(mean_square_r/len(conformations_10))"
   ]
  },
  {
   "cell_type": "code",
   "execution_count": null,
   "metadata": {},
   "outputs": [],
   "source": [
    "for i in range(3, 11):\n",
    "    c = get_all_conformations(i)\n",
    "    number_of_conformations.append(len(c))\n",
    "    print(i, \" finished\", end = \" \")"
   ]
  },
  {
   "cell_type": "markdown",
   "metadata": {},
   "source": [
    "# Все блуждания "
   ]
  },
  {
   "cell_type": "code",
   "execution_count": 24,
   "metadata": {},
   "outputs": [],
   "source": [
    "def get_all_saws(current_paths, length, current_conformation):\n",
    "    \"\"\" Все созданные конформации лежат в первом аргументе функции get_all_saws, \n",
    "    поэтому первым аргументом нужно подавать переменную, которой ранее присвоили пустой список\n",
    "    \n",
    "    \"\"\"\n",
    "    if(length==1):\n",
    "        current_paths.append(current_conformation)\n",
    "    else:\n",
    "        for step in [(1, 0), (-1, 0), (0, 1),  (0, -1)]:\n",
    "            new_point = (current_conformation[-1][0]+step[0], current_conformation[-1][1]+step[1] )\n",
    "            if new_point in current_conformation:\n",
    "                continue\n",
    "            else:\n",
    "                temp_path = current_conformation.copy()\n",
    "                temp_path.append(new_point)\n",
    "                get_all_saws(current_paths, length-1,  temp_path)"
   ]
  },
  {
   "cell_type": "code",
   "execution_count": 25,
   "metadata": {},
   "outputs": [
    {
     "name": "stdout",
     "output_type": "stream",
     "text": [
      "44100\n",
      "[(0, 0), (1, 0), (2, 0), (3, 0), (4, 0), (5, 0), (6, 0), (7, 0), (7, 1), (8, 1), (8, 2)]\n",
      "7.99803343166175\n",
      "16268\n",
      "7.999274442227462\n",
      "44100\n"
     ]
    }
   ],
   "source": [
    "start_conformation = [(0,0)]\n",
    "saws_set =[]\n",
    "\n",
    "get_all_saws(saws_set, 11,start_conformation)\n",
    "print(len(saws_set))\n",
    "print(saws_set[10])\n",
    "print(16268/2034)\n",
    "#34*8\n",
    "print(2033*8+4)\n",
    "print(44100/5513)\n",
    "print(5512*8+4)"
   ]
  },
  {
   "cell_type": "code",
   "execution_count": null,
   "metadata": {},
   "outputs": [],
   "source": [
    "#44100"
   ]
  },
  {
   "cell_type": "markdown",
   "metadata": {},
   "source": [
    "# References\n",
    "\n",
    "1) A Lattice Statistical Mechanics Model of the Conformational and Sequence Spaces of Proteins, Kit Fun Lau and Ken A. Dill, Macromolecules 1989 \n",
    "\n",
    "2) Lattice Models of Polymers, Carlo Vanderzande, 2008\n",
    "\n",
    "3) Polymer solutions, An Introduction to Physical Properties, IWAO TERAOKA"
   ]
  },
  {
   "cell_type": "code",
   "execution_count": null,
   "metadata": {},
   "outputs": [],
   "source": []
  }
 ],
 "metadata": {
  "kernelspec": {
   "display_name": "Python 3",
   "language": "python",
   "name": "python3"
  },
  "language_info": {
   "codemirror_mode": {
    "name": "ipython",
    "version": 3
   },
   "file_extension": ".py",
   "mimetype": "text/x-python",
   "name": "python",
   "nbconvert_exporter": "python",
   "pygments_lexer": "ipython3",
   "version": "3.7.1"
  }
 },
 "nbformat": 4,
 "nbformat_minor": 2
}
