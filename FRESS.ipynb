{
 "cells": [
  {
   "cell_type": "code",
   "execution_count": 1,
   "metadata": {},
   "outputs": [],
   "source": [
    "import numpy as np\n",
    "import math \n",
    "import pylab\n",
    "import matplotlib.pyplot as plt\n",
    "import matplotlib\n",
    "from matplotlib import cm, colors\n",
    "import random"
   ]
  },
  {
   "cell_type": "code",
   "execution_count": 2,
   "metadata": {},
   "outputs": [],
   "source": [
    "class Protein(object):\n",
    "    def __init__(self, sequence, conformation):\n",
    "        self.sequence = sequence\n",
    "        self.conformation = conformation\n",
    "        \n",
    "    def count_proteins_contacts(self):\n",
    "        \"\"\"Для данного белка считает число топологических контактов HH.\"\"\"\n",
    "        hh=0\n",
    "        steps = [(1, 0), (-1, 0), (0, 1),  (0, -1)]\n",
    "        for i in range(1, len(self.conformation)-1):\n",
    "            not_topological=[self.conformation [i-1], self.conformation[i+1]]\n",
    "            for step in steps:\n",
    "                new_point = (self.conformation[i][0]+step[0], self.conformation [i][1]+step[1] )\n",
    "                if (new_point in self.conformation  and (new_point not in not_topological)):\n",
    "                    position = self.conformation.index(new_point)\n",
    "                    if( self.sequence[position]==1 and self.sequence[i]==1 ):\n",
    "                        hh=hh+1\n",
    "        for step in steps:\n",
    "            new_point_begin = (self.conformation[0][0]+step[0], self.conformation[0][1]+step[1] )\n",
    "            new_point_end= ( self.conformation[-1][0]+step[0], self.conformation [-1][1]+step[1])\n",
    "            if(new_point_begin in self.conformation  and new_point_begin!=self.conformation [1]):\n",
    "                position = self.conformation.index(new_point_begin)\n",
    "                if( self.sequence[position]==1 and self.sequence[0]==1 ):\n",
    "                    hh=hh+1\n",
    "            if( new_point_end in self.conformation  and new_point_end!=self.conformation[-2]):\n",
    "                position = self.conformation.index(new_point_end) \n",
    "                if( self.sequence[position]==1 and self.sequence[-1]==1 ):\n",
    "                    hh=hh+1\n",
    "        return hh//2\n",
    "     "
   ]
  },
  {
   "cell_type": "code",
   "execution_count": 3,
   "metadata": {},
   "outputs": [],
   "source": [
    "L_min=2\n",
    "L_max=12\n",
    "steps = [(1, 0), (-1, 0), (0, 1),  (0, -1)]"
   ]
  },
  {
   "cell_type": "code",
   "execution_count": 4,
   "metadata": {},
   "outputs": [
    {
     "name": "stdout",
     "output_type": "stream",
     "text": [
      "[0.23773177132467707, 0.1584878475497847, 0.11886588566233854, 0.09509270852987083, 0.07924392377489235, 0.06792336323562202, 0.05943294283116927, 0.052829282516594904, 0.04754635426493541, 0.04322395842266856, 0.039621961887446176]\n",
      "0.9999999999999998\n"
     ]
    }
   ],
   "source": [
    "one_over_lengths=0\n",
    "lengths=range(L_min, L_max+1)\n",
    "\n",
    "for i in lengths:\n",
    "    one_over_lengths=one_over_lengths+1/i\n",
    "\n",
    "k=1/one_over_lengths\n",
    "\n",
    "\n",
    "probabilities = []\n",
    "for i in lengths:\n",
    "    probabilities.append(k/i)\n",
    "    \n",
    "print(probabilities)\n",
    "print(sum(probabilities))"
   ]
  },
  {
   "cell_type": "code",
   "execution_count": null,
   "metadata": {},
   "outputs": [],
   "source": []
  },
  {
   "cell_type": "code",
   "execution_count": 39,
   "metadata": {},
   "outputs": [
    {
     "data": {
      "text/plain": [
       "False"
      ]
     },
     "execution_count": 39,
     "metadata": {},
     "output_type": "execute_result"
    }
   ],
   "source": [
    "np.random.choice([i  in range(10)], 100)[0]"
   ]
  },
  {
   "cell_type": "code",
   "execution_count": 6,
   "metadata": {},
   "outputs": [
    {
     "name": "stdout",
     "output_type": "stream",
     "text": [
      "[1, 1, 0, 1, 0, 1, 0, 1, 0, 1, 1, 1, 1, 0, 1, 0, 0, 0, 1, 0, 0, 0, 1, 0, 0, 0, 0, 1, 0, 0, 0, 1, 0, 0, 0, 1, 0, 1, 1, 1, 1, 0, 1, 0, 1, 0, 1, 0, 1, 1]\n",
      "50\n"
     ]
    }
   ],
   "source": [
    "st='HHPHPHPHPHHHHPHPPPHPPPHPPPPHPPPHPPPHPHHHHPHPHPHPHH'\n",
    "length = len(st)\n",
    "sequence_example=[]\n",
    "for c in st:\n",
    "    if c=='H':\n",
    "        sequence_example.append(1)\n",
    "    else:\n",
    "        sequence_example.append(0)\n",
    "print(sequence_example)\n",
    "print(len(sequence_example))"
   ]
  },
  {
   "cell_type": "code",
   "execution_count": 7,
   "metadata": {},
   "outputs": [],
   "source": [
    "T = 2.5 #температура фиксирована \n",
    "n_interations = 100 #пока фиксирую число итераций так \n"
   ]
  },
  {
   "cell_type": "code",
   "execution_count": 8,
   "metadata": {},
   "outputs": [
    {
     "name": "stdout",
     "output_type": "stream",
     "text": [
      "[(0, 0), (0, 1), (0, 2), (0, 3), (1, 3), (1, 2), (1, 1), (1, 0), (2, 0), (2, 1), (2, 2), (2, 3), (3, 3), (3, 2), (3, 1), (3, 0), (4, 0), (4, 1), (4, 2), (4, 3), (5, 3), (5, 2), (5, 1), (5, 0), (6, 0), (6, 1), (6, 2), (6, 3), (7, 3), (7, 2), (7, 1), (7, 0), (8, 0), (8, 1), (8, 2), (8, 3), (9, 3), (9, 2), (9, 1), (9, 0), (10, 0), (10, 1), (10, 2), (10, 3), (11, 3), (11, 2), (11, 1), (11, 0), (12, 0), (12, 1)]\n",
      "50\n"
     ]
    }
   ],
   "source": [
    "start_conformation = [(0, 0)]\n",
    "for i in range(1,50):\n",
    "    if (i%8>0 and i%8<4):\n",
    "        new_coordinate = (start_conformation[-1][0],start_conformation[-1][1]+1)\n",
    "    elif (i%8>4 and i%8<=7):\n",
    "        new_coordinate = (start_conformation[-1][0],start_conformation[-1][1]-1)\n",
    "    else:\n",
    "        new_coordinate = (start_conformation[-1][0]+1,start_conformation[-1][1])\n",
    "    start_conformation.append(new_coordinate)\n",
    "print(start_conformation)\n",
    "print(len(start_conformation))"
   ]
  },
  {
   "cell_type": "code",
   "execution_count": 9,
   "metadata": {},
   "outputs": [],
   "source": [
    "xplot = []\n",
    "yplot = []\n",
    "for i in start_conformation:\n",
    "    xplot.append(i[0])\n",
    "    yplot.append(i[1]+4)\n",
    "markers = list(matplotlib.lines.Line2D.markers)"
   ]
  },
  {
   "cell_type": "code",
   "execution_count": 10,
   "metadata": {},
   "outputs": [
    {
     "data": {
      "image/png": "[encoded data removed]",
      "text/plain": [
       "<Figure size 504x504 with 1 Axes>"
      ]
     },
     "metadata": {
      "needs_background": "light"
     },
     "output_type": "display_data"
    }
   ],
   "source": [
    "plt.figure(figsize=(7,7 ))\n",
    "\n",
    "plt.plot(xplot, yplot, '-', color = 'k', lw=3,markersize=9,alpha=0.5)\n",
    "\n",
    "plt.scatter(xplot, yplot, c=sequence_example, s=75, edgecolors='k',  cmap='Greys', alpha = 1)\n",
    "\n",
    "plt.xlim(-1, 14)\n",
    "plt.ylim(-1,14)\n",
    "\n",
    "plt.axis('off')\n",
    "\n",
    "plt.grid(True)"
   ]
  },
  {
   "cell_type": "code",
   "execution_count": 11,
   "metadata": {},
   "outputs": [
    {
     "name": "stdout",
     "output_type": "stream",
     "text": [
      "5\n"
     ]
    }
   ],
   "source": [
    "p = Protein(sequence_example, start_conformation)\n",
    "q = p.count_proteins_contacts()\n",
    "print(q)"
   ]
  },
  {
   "cell_type": "code",
   "execution_count": 12,
   "metadata": {},
   "outputs": [],
   "source": [
    "def D(point1, point2):\n",
    "    return abs(point2[0]-point1[0]) + abs(point2[1]-point1[1])"
   ]
  },
  {
   "cell_type": "markdown",
   "metadata": {},
   "source": [
    "# Attempt to implement FRESS\n"
   ]
  },
  {
   "cell_type": "code",
   "execution_count": 57,
   "metadata": {},
   "outputs": [
    {
     "name": "stdout",
     "output_type": "stream",
     "text": [
      "5\n",
      "13\n",
      "we did move\n",
      "we did move\n",
      "we did move\n"
     ]
    }
   ],
   "source": [
    "current_conf = start_conformation.copy()\n",
    "tobreak=False \n",
    "for iteration in range(1):\n",
    "    #print(iteration, end=\" \")\n",
    "    l = np.random.choice(lengths, 1, p=probabilities)[0] #selected l \n",
    "    print(l)\n",
    "    end = length-l-1 #for e+1\n",
    "    start_position = random.randint(0,end)\n",
    "    print(start_position)\n",
    "    end_position = start_position+l-1\n",
    "\n",
    "    C_t= current_conf[:start_position]+current_conf[end_position+1:]\n",
    "    Seq_t=sequence_example[:start_position]+sequence_example[end_position+1:]\n",
    "    \n",
    "    \n",
    "    #print(C_t)\n",
    "    \n",
    "    p=Protein(Seq_t, C_t)\n",
    "    E_t=p.count_proteins_contacts()\n",
    "    #print(\"E_t : \", E_t)\n",
    "    \n",
    "    #first move \n",
    "    first_moves=[]\n",
    "    \n",
    "    for step in steps:\n",
    "        point = (C_t[start_position-1][0]+step[0], C_t[start_position-1][1]+step[1])\n",
    "        \n",
    "        if (point == current_conf[start_position]):\n",
    "            continue\n",
    "        if ((point not in C_t )and D(point, current_conf[end_position+1])<=abs(end_position+1-start_position)):\n",
    "            first_moves.append(point)\n",
    "            \n",
    "    \n",
    "    #print(\"first moves : \", first_moves)\n",
    "    if(len(first_moves)==0):\n",
    "        continue\n",
    "    else:\n",
    "        ind=[]\n",
    "        for q in range(len(first_moves)):\n",
    "            ind.append(q)\n",
    "        \n",
    "        first_move=first_moves[np.random.choice(ind, 1)[0]]\n",
    "        C_t_j = current_conf[:start_position]+[first_move]+current_conf[end_position+1:]\n",
    "        Seq_t_j=sequence_example[:start_position]+[sequence_example[start_position]]+sequence_example[end_position+1:]\n",
    "        pnew = Protein(Seq_t_j ,C_t_j)\n",
    "        Enew = pnew.count_proteins_contacts()\n",
    "        acceptance_probability =min(1, math.exp(-(Enew-E_t)/T) )\n",
    "            \n",
    "        p_t_j =np.random.choice([0, 1], 1, p=[acceptance_probability, 1-acceptance_probability])[0]\n",
    "            # 0 - accept, 1 - not\n",
    "            \n",
    "        if(p_t_j)==0:\n",
    "            C_t=C_t_j\n",
    "            Seq_t=Seq_t_j\n",
    "            print(\"we did move\")\n",
    "        else: \n",
    "            continue\n",
    "            \n",
    "        \n",
    "        for t in range(start_position+1, end_position+1):\n",
    "            moves = [] \n",
    "            for step in steps:\n",
    "                point = (C_t[t-1][0]+step[0], C_t[t-1][1]+step[1])\n",
    "                if ((point not in C_t )and D(point, current_conf[end_position+1])<=abs(end_position+1-t)):\n",
    "                    moves.append(point)\n",
    "                    \n",
    "            if(len(moves)==0):\n",
    "                break \n",
    "            else: \n",
    "                ind=[]\n",
    "                for q in range(len(first_moves)):\n",
    "                    ind.append(q)\n",
    "        \n",
    "                for move in moves:\n",
    "                    C_t_j = current_conf[:t]+[move]+current_conf[end_position+1:]\n",
    "                    Seq_t_j=sequence_example[:t]+[sequence_example[t]]+sequence_example[end_position+1:]\n",
    "                    pnew = Protein(Seq_t_j ,C_t_j)\n",
    "                    Enew = pnew.count_proteins_contacts()\n",
    "                    acceptance_probability =min(1, math.exp(-(Enew-E_t)/T) )\n",
    "                \n",
    "                    p_t_j =np.random.choice([0, 1], 1, p=[acceptance_probability, 1-acceptance_probability])[0]\n",
    "                    if(p_t_j)==0:\n",
    "                        C_t=C_t_j\n",
    "                        Seq_t=Seq_t_j\n",
    "                        print(\"we did move\")\n",
    "                        continue\n",
    "                    else: \n",
    "                        continue\n",
    "             # too weak acceptance and chances to regrow???        \n",
    "            if(len(C_t)==len(C_t_j)):\n",
    "                break \n",
    "                \n",
    "        \n",
    "            \n",
    "\n",
    "            #print(\"E Enew \", E_t, Enew)\n",
    "            #print(\"probability \", acceptance_probability)\n",
    "            \n",
    "            \n",
    "            \n",
    "            \n",
    "                \n",
    "                \n",
    "    continue    \n",
    "        \n",
    "    \n",
    "    \n",
    "    #for residue in range(l):\n",
    "        \n",
    "    \n",
    "    "
   ]
  },
  {
   "cell_type": "code",
   "execution_count": 58,
   "metadata": {},
   "outputs": [
    {
     "data": {
      "image/png": "[encoded data removed]",
      "text/plain": [
       "<Figure size 504x504 with 1 Axes>"
      ]
     },
     "metadata": {
      "needs_background": "light"
     },
     "output_type": "display_data"
    }
   ],
   "source": [
    "xplot = []\n",
    "yplot = []\n",
    "for i in C_t:\n",
    "    xplot.append(i[0])\n",
    "    yplot.append(i[1])\n",
    "markers = list(matplotlib.lines.Line2D.markers)\n",
    "\n",
    "plt.figure(figsize=(7,7 ))\n",
    "\n",
    "plt.plot(xplot, yplot, '-', color = 'k', lw=3,markersize=9,alpha=0.5)\n",
    "#plt.plot(first_moves[0][0], first_moves[0][1])\n",
    "plt.scatter(xplot, yplot,c=Seq_t,  s=75, edgecolors='k',  cmap='Greys', alpha = 1)\n",
    "\n",
    "plt.xlim(-1, 14)\n",
    "plt.ylim(-1,14)\n",
    "\n",
    "plt.grid(True)"
   ]
  },
  {
   "cell_type": "code",
   "execution_count": null,
   "metadata": {},
   "outputs": [],
   "source": []
  },
  {
   "cell_type": "code",
   "execution_count": null,
   "metadata": {},
   "outputs": [],
   "source": []
  }
 ],
 "metadata": {
  "kernelspec": {
   "display_name": "Python 3",
   "language": "python",
   "name": "python3"
  },
  "language_info": {
   "codemirror_mode": {
    "name": "ipython",
    "version": 3
   },
   "file_extension": ".py",
   "mimetype": "text/x-python",
   "name": "python",
   "nbconvert_exporter": "python",
   "pygments_lexer": "ipython3",
   "version": "3.7.1"
  }
 },
 "nbformat": 4,
 "nbformat_minor": 2
}
