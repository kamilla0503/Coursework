{
 "cells": [
  {
   "cell_type": "code",
   "execution_count": 1,
   "metadata": {},
   "outputs": [],
   "source": [
    "import matplotlib.pyplot as plt\n",
    "import random\n",
    "import numpy as np\n",
    "import math "
   ]
  },
  {
   "cell_type": "code",
   "execution_count": 2,
   "metadata": {},
   "outputs": [],
   "source": [
    "class Protein(object):\n",
    "    def __init__(self, sequence, conformation):\n",
    "        self.sequence = sequence\n",
    "        self.conformation = conformation\n",
    "\n",
    "        self.energy = self.count_proteins_contacts()\n",
    "        \n",
    "        \n",
    "    def count_proteins_contacts(self):\n",
    "        \"\"\"Для данного белка считает число топологических контактов HH.\"\"\"\n",
    "        hh=0\n",
    "        steps = [(1, 0), (-1, 0), (0, 1),  (0, -1)]\n",
    "        for i in range(1, len(self.conformation)-1):\n",
    "            not_topological=[self.conformation [i-1], self.conformation[i+1]]\n",
    "            for step in steps:\n",
    "                new_point = (self.conformation[i][0]+step[0], self.conformation [i][1]+step[1] )\n",
    "                if (new_point in self.conformation  and (new_point not in not_topological)):\n",
    "                    position = self.conformation.index(new_point)\n",
    "                    if( self.sequence[position]==1 and self.sequence[i]==1 ):\n",
    "                        hh=hh+1\n",
    "        for step in steps:\n",
    "            new_point_begin = (self.conformation[0][0]+step[0], self.conformation[0][1]+step[1] )\n",
    "            new_point_end= ( self.conformation[-1][0]+step[0], self.conformation [-1][1]+step[1])\n",
    "            if(new_point_begin in self.conformation  and new_point_begin!=self.conformation [1]):\n",
    "                position = self.conformation.index(new_point_begin)\n",
    "                if( self.sequence[position]==1 and self.sequence[0]==1 ):\n",
    "                    hh=hh+1\n",
    "            if( new_point_end in self.conformation  and new_point_end!=self.conformation[-2]):\n",
    "                position = self.conformation.index(new_point_end) \n",
    "                if( self.sequence[position]==1 and self.sequence[-1]==1 ):\n",
    "                    hh=hh+1\n",
    "        return -(hh//2)"
   ]
  },
  {
   "cell_type": "code",
   "execution_count": 3,
   "metadata": {},
   "outputs": [],
   "source": [
    "template = [1,1,0]"
   ]
  },
  {
   "cell_type": "code",
   "execution_count": 4,
   "metadata": {},
   "outputs": [],
   "source": [
    "length = 10\n",
    "seq_start_10 = []\n",
    "for i in range(length):\n",
    "    seq_start_10.append(template[i%len(template)])\n",
    "    \n",
    "start_conformation = [(0, 0)]\n",
    "for i in range(1,length):\n",
    "    if (i%8>0 and i%8<4):\n",
    "        new_coordinate = (start_conformation[-1][0],start_conformation[-1][1]+1)\n",
    "    elif (i%8>4 and i%8<=7):\n",
    "        new_coordinate = (start_conformation[-1][0],start_conformation[-1][1]-1)\n",
    "    else:\n",
    "        new_coordinate = (start_conformation[-1][0]+1,start_conformation[-1][1])\n",
    "    start_conformation.append(new_coordinate)"
   ]
  },
  {
   "cell_type": "code",
   "execution_count": 5,
   "metadata": {},
   "outputs": [
    {
     "data": {
      "text/plain": [
       "(-1, 14)"
      ]
     },
     "execution_count": 5,
     "metadata": {},
     "output_type": "execute_result"
    },
    {
     "data": {
      "image/png": "[encoded data removed]",
      "text/plain": [
       "<Figure size 504x504 with 1 Axes>"
      ]
     },
     "metadata": {
      "needs_background": "light"
     },
     "output_type": "display_data"
    }
   ],
   "source": [
    "xplot = []\n",
    "yplot = []\n",
    "for i in start_conformation:\n",
    "    xplot.append(i[0])\n",
    "    yplot.append(i[1])\n",
    "#markers = list(matplotlib.lines.Line2D.markers)\n",
    "\n",
    "plt.figure(figsize=(7,7 ))\n",
    "\n",
    "plt.plot(xplot, yplot, '-', color = 'k', lw=3,markersize=9,alpha=0.5)\n",
    "\n",
    "plt.scatter(xplot, yplot, c=seq_start_10, s=75, edgecolors='k',  cmap='Greys', alpha = 1)\n",
    "\n",
    "plt.xlim(-1, 14)\n",
    "plt.ylim(-1,14)"
   ]
  },
  {
   "cell_type": "code",
   "execution_count": 6,
   "metadata": {},
   "outputs": [
    {
     "name": "stdout",
     "output_type": "stream",
     "text": [
      "-3\n"
     ]
    }
   ],
   "source": [
    "p = Protein(seq_start_10, start_conformation)\n",
    "start_e = p.count_proteins_contacts()\n",
    "print(p.energy)"
   ]
  },
  {
   "cell_type": "markdown",
   "metadata": {},
   "source": [
    "### Текущий алгоритм.\n",
    "\n",
    "1. Случайно из равномерного распределения выбирается одно действие: удалить выбранный элемент или увеличить цепочку на один мономер.\n",
    "\n"
   ]
  },
  {
   "cell_type": "code",
   "execution_count": 7,
   "metadata": {},
   "outputs": [],
   "source": [
    "steps = [(1, 0), (-1, 0), (0, 1),  (0, -1)]"
   ]
  },
  {
   "cell_type": "code",
   "execution_count": 8,
   "metadata": {},
   "outputs": [],
   "source": [
    "def M_C(p, template, t, f, nsteps = 100):\n",
    "    \n",
    "    E = 0.0\n",
    "    for i in range(nsteps):\n",
    "\n",
    "        w = random.uniform(0, 1)\n",
    "        if(w<0.5): #удаляем в конце \n",
    "            if(len(p.sequence)!=1): \n",
    "                new_e = Protein(p.sequence[:-1],p.conformation[:-1]).count_proteins_contacts()\n",
    "                p_metropolis = min(1.0, math.exp(-(new_e-p.energy+f)/t)/2.0 )\n",
    "                change_accept = random.uniform(0, 1)\n",
    "                if(change_accept < p_metropolis):\n",
    "                    p.sequence = p.sequence[:-1]\n",
    "                    p.conformation = p.conformation[:-1]\n",
    "                    p.energy = new_e\n",
    "        else:\n",
    "            moves_all = []  \n",
    "            for step in steps:\n",
    "                point = (p.conformation[-1][0]+step[0], p.conformation[-1][1]+step[1])\n",
    "                if(point not in p.conformation):\n",
    "                    moves_all.append(point)   \n",
    "                    \n",
    "            if(len(moves_all)!=0):\n",
    "                rate_change = []\n",
    "                sequence_longer = p.sequence.copy()\n",
    "                sequence_longer.append(template[(len(p.sequence))%len(template)])                \n",
    "                for move in moves_all:\n",
    "                 \n",
    "                #new_point = random.choice(moves_all)\n",
    "                #print(p.conformation)\n",
    "                    new_conf = p.conformation.copy()\n",
    "                    new_conf.append(move)\n",
    "                #print(new_conf)\n",
    "                    new_e = Protein(sequence_longer,new_conf).count_proteins_contacts()\n",
    "                    rate_change.append( math.exp(-(new_e-p.energy-f)/t)  )\n",
    "                \n",
    "                rate_change = np.array(rate_change)\n",
    "                rate_change = rate_change/sum(rate_change)\n",
    "                point =np.random.choice([i for i in range(len(moves_all))], 1, p =rate_change)[0]\n",
    "                \n",
    "                \n",
    "        E = E + math.exp(-(p.energy-f*len(p.sequence)))\n",
    "\n",
    " \n",
    "    return E/nsteps"
   ]
  },
  {
   "cell_type": "code",
   "execution_count": 13,
   "metadata": {},
   "outputs": [
    {
     "name": "stdout",
     "output_type": "stream",
     "text": [
      "0 1 2 3 4 5 6 7 8 9 10 11 12 13 14 15 16 17 18 19 20 21 22 23 24 25 26 27 28 29 30 31 32 33 34 35 36 37 38 39 40 41 42 43 44 45 46 47 48 49 50 51 52 53 54 55 56 57 58 59 60 61 62 63 64 65 66 67 68 69 70 71 72 73 74 75 76 77 78 79 80 81 82 83 84 85 86 87 88 89 90 91 92 93 94 95 96 97 98 99 "
     ]
    }
   ],
   "source": [
    "\n",
    "some_results = np.zeros(100)\n",
    "for i in range(len(some_results)):\n",
    "    p = Protein(seq_start_10, start_conformation)\n",
    "    some_results[i] = M_C(p, template, 0.2, 0.2,1000)\n",
    "    print(i, end = \" \")"
   ]
  },
  {
   "cell_type": "code",
   "execution_count": 14,
   "metadata": {},
   "outputs": [
    {
     "data": {
      "text/plain": [
       "[<matplotlib.lines.Line2D at 0x7feb2893f6a0>]"
      ]
     },
     "execution_count": 14,
     "metadata": {},
     "output_type": "execute_result"
    },
    {
     "data": {
      "image/png": "[encoded data removed]",
      "text/plain": [
       "<Figure size 432x288 with 1 Axes>"
      ]
     },
     "metadata": {
      "needs_background": "light"
     },
     "output_type": "display_data"
    }
   ],
   "source": [
    "plt.plot([i for i in range(len(some_results))], some_results, '-', color = 'k', lw=3,markersize=9,alpha=0.5)\n"
   ]
  },
  {
   "cell_type": "code",
   "execution_count": 11,
   "metadata": {},
   "outputs": [
    {
     "data": {
      "text/plain": [
       "66.22271290427234"
      ]
     },
     "execution_count": 11,
     "metadata": {},
     "output_type": "execute_result"
    }
   ],
   "source": [
    "#просто просмотр результатов одного запуска \n",
    "\n",
    "p = Protein(seq_start_10, start_conformation)\n",
    "M_C(p, template, 0.2, 0.2,1000)"
   ]
  },
  {
   "cell_type": "code",
   "execution_count": 12,
   "metadata": {},
   "outputs": [
    {
     "data": {
      "text/plain": [
       "(-1, 14)"
      ]
     },
     "execution_count": 12,
     "metadata": {},
     "output_type": "execute_result"
    },
    {
     "data": {
      "image/png": "[encoded data removed]",
      "text/plain": [
       "<Figure size 504x504 with 1 Axes>"
      ]
     },
     "metadata": {
      "needs_background": "light"
     },
     "output_type": "display_data"
    }
   ],
   "source": [
    "xplot = []\n",
    "yplot = []\n",
    "for i in p.conformation:\n",
    "    xplot.append(i[0])\n",
    "    yplot.append(i[1])\n",
    "#markers = list(matplotlib.lines.Line2D.markers)\n",
    "\n",
    "plt.figure(figsize=(7,7 ))\n",
    "\n",
    "plt.plot(xplot, yplot, '-', color = 'k', lw=3,markersize=9,alpha=0.5)\n",
    "\n",
    "plt.scatter(xplot, yplot, c=p.sequence, s=75, edgecolors='k',  cmap='Greys', alpha = 1)\n",
    "\n",
    "plt.xlim(-1, 14)\n",
    "plt.ylim(-1,14)"
   ]
  },
  {
   "cell_type": "code",
   "execution_count": null,
   "metadata": {},
   "outputs": [],
   "source": [
    "\n",
    "        \n",
    "        \n",
    "    \n"
   ]
  },
  {
   "cell_type": "code",
   "execution_count": null,
   "metadata": {},
   "outputs": [],
   "source": []
  },
  {
   "cell_type": "code",
   "execution_count": null,
   "metadata": {},
   "outputs": [],
   "source": []
  }
 ],
 "metadata": {
  "kernelspec": {
   "display_name": "Python 3",
   "language": "python",
   "name": "python3"
  },
  "language_info": {
   "codemirror_mode": {
    "name": "ipython",
    "version": 3
   },
   "file_extension": ".py",
   "mimetype": "text/x-python",
   "name": "python",
   "nbconvert_exporter": "python",
   "pygments_lexer": "ipython3",
   "version": "3.7.3"
  }
 },
 "nbformat": 4,
 "nbformat_minor": 2
}
