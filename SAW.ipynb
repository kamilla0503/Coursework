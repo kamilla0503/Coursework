{
 "cells": [
  {
   "cell_type": "markdown",
   "metadata": {},
   "source": [
    "Все созданные конформации лежат в первом аргументе функции get_all_saws, поэтому первым аргументом нужно подавать переменную, которой ранее присвоили пустой список "
   ]
  },
  {
   "cell_type": "code",
   "execution_count": 2,
   "metadata": {},
   "outputs": [],
   "source": [
    "import matplotlib.pyplot as plt\n",
    "import numpy as np \n",
    "from math import sqrt "
   ]
  },
  {
   "cell_type": "code",
   "execution_count": 5,
   "metadata": {},
   "outputs": [],
   "source": [
    "def get_all_saws(current_paths, length, current_conformation):\n",
    "    if(length==0):\n",
    "        current_paths.append(current_conformation)\n",
    "    else:\n",
    "        for step in [(1, 0), (-1, 0), (0, 1),  (0, -1)]:\n",
    "            new_point = (current_conformation[-1][0]+step[0], current_conformation[-1][1]+step[1] )\n",
    "            if new_point in current_conformation:\n",
    "                continue\n",
    "            else:\n",
    "                temp_path = current_conformation.copy()\n",
    "                temp_path.append(new_point)\n",
    "                get_all_saws(current_paths, length-1,  temp_path)"
   ]
  },
  {
   "cell_type": "markdown",
   "metadata": {},
   "source": [
    "Функция  vector_for_distance возвращат вектор, который описывает конформацию\n",
    "Функция distance_between_saws - метрика \n",
    "(Взяла из статьи Kit Fun Lau and Ken A. Dill) "
   ]
  },
  {
   "cell_type": "code",
   "execution_count": 11,
   "metadata": {},
   "outputs": [],
   "source": [
    "def vector_for_distance(saw):\n",
    "    \"\"\"docstring\"\"\"\n",
    "    result = []\n",
    "    left = [[(0,1), (-1, 0)] , [(1, 0), (0, 1)], [(0, -1), (1, 0)], [(-1, 0), (0, -1)] ]\n",
    "    right = [ [(1, 0), (0, -1)], [(0,1), (1, 0)],  [(-1, 0), (0, 1)],  [(0, -1), (-1, 0)]  ]\n",
    "    for i in range(2, len(saw)):\n",
    "        steps = []\n",
    "        dx = saw[i-1][0] - saw[i-2][0]\n",
    "        dy =  saw[i-1][1] - saw[i-2][1]\n",
    "        steps.append((dx, dy))\n",
    "        dx = saw[i][0] - saw[i-1][0]\n",
    "        dy =  saw[i][1] - saw[i-1][1]\n",
    "        steps.append((dx, dy))\n",
    "        if(saw[i][0] == saw[i-1][0] and saw[i-1][0]==saw[i-2][0] or saw[i][1] == saw[i-1][1] and saw[i-1][1]==saw[i-2][1]):\n",
    "            result.append(0)\n",
    "        elif (steps in left):\n",
    "            result.append(-1)\n",
    "        else:\n",
    "            result.append(1)\n",
    "    return result \n",
    "e=709\n",
    "#print(vector_for_distance(conformations[e]))\n",
    "#print(conformations[e])"
   ]
  },
  {
   "cell_type": "code",
   "execution_count": 9,
   "metadata": {},
   "outputs": [],
   "source": [
    "def distance_between_saws(saw1, saw2):\n",
    "    v1 = 0\n",
    "    v2 = 0\n",
    "    v_minus = []\n",
    "    v_plus = [] \n",
    "    s1 =  vector_for_distance(saw1)\n",
    "    s2= vector_for_distance(saw2)\n",
    "    for i in range(len(s1)):\n",
    "        v1=v1+ abs( s1[i]-s2[i])\n",
    "        v2=v2+ abs( s1[i]+s2[i])\n",
    "    #print(saw1, \" \", s1)\n",
    "    #print(saw2, \" \", s2)\n",
    "    #print(min(v1, v2))\n",
    "    return min(v1, v2)\n",
    "\n",
    "#print(distance_between_saws(conformations[e], conformations[700] ))\n",
    "#print(distance_between_saws(conformations[1], conformations[165] ))"
   ]
  },
  {
   "cell_type": "code",
   "execution_count": 12,
   "metadata": {},
   "outputs": [
    {
     "name": "stdout",
     "output_type": "stream",
     "text": [
      "36\n",
      "\n",
      "\n",
      "[[(0, 0), (1, 0), (2, 0), (3, 0)], [(0, 0), (1, 0), (2, 0), (2, 1)], [(0, 0), (1, 0), (1, 1), (2, 1)], [(0, 0), (1, 0), (1, 1), (0, 1)], [(0, 0), (1, 0), (1, 1), (1, 2)]]\n"
     ]
    }
   ],
   "source": [
    "start_conformation = [(0,0)]\n",
    "conformations =[]\n",
    "get_all_saws(conformations, 3,start_conformation)\n",
    "print(len(conformations))\n",
    "w = filter_conformations(conformations)\n",
    "print(w)\n",
    "#print(conformations)"
   ]
  },
  {
   "cell_type": "code",
   "execution_count": 7,
   "metadata": {},
   "outputs": [],
   "source": [
    "def filter_conformations(saws ): \n",
    "    result = []\n",
    "    result.append(saws[0])\n",
    "    #result = [saws[0]]\n",
    "    for i in range (1, len(saws)//4):\n",
    "        if(i%100==0):\n",
    "            print(i, end= \" \")\n",
    "        k=0\n",
    "        for conformation in result:\n",
    "            if(  distance_between_saws(conformation, saws[i] )== 0):\n",
    "                k=-1\n",
    "                break;\n",
    "        if(k==-1):\n",
    "            continue\n",
    "        else:\n",
    "            #if(saws[i])\n",
    "            result.append(saws[i])\n",
    "            \n",
    "    print(\"\\n\")\n",
    "    return result \n",
    "\n",
    "\n",
    "#q = filter_conformations(conformations)\n",
    "#print(len(q))\n",
    "#print(q)\n"
   ]
  },
  {
   "cell_type": "code",
   "execution_count": 16,
   "metadata": {},
   "outputs": [
    {
     "name": "stdout",
     "output_type": "stream",
     "text": [
      "\n",
      "\n",
      "1  finished \n",
      "\n",
      "2  finished \n",
      "\n",
      "3  finished \n",
      "\n",
      "4  finished \n",
      "\n",
      "5  finished 100 \n",
      "\n",
      "6  finished 100 200 300 400 500 \n",
      "\n",
      "7  finished 100 200 300 400 500 600 700 800 900 1000 1100 1200 1300 1400 \n",
      "\n",
      "8  finished 100 200 300 400 500 600 700 800 900 1000 1100 1200 1300 1400 1500 1600 1700 1800 1900 2000 2100 2200 2300 2400 2500 2600 2700 2800 2900 3000 3100 3200 3300 3400 3500 3600 3700 3800 3900 4000 \n",
      "\n",
      "9  finished 100 200 300 400 500 600 700 800 900 1000 1100 1200 1300 1400 1500 1600 1700 1800 1900 2000 2100 2200 2300 2400 2500 2600 2700 2800 2900 3000 3100 3200 3300 3400 3500 3600 3700 3800 3900 4000 4100 4200 4300 4400 4500 4600 4700 4800 4900 5000 5100 5200 5300 5400 5500 5600 5700 5800 5900 6000 6100 6200 6300 6400 6500 6600 6700 6800 6900 7000 7100 7200 7300 7400 7500 7600 7700 7800 7900 8000 8100 8200 8300 8400 8500 8600 8700 8800 8900 9000 9100 9200 9300 9400 9500 9600 9700 9800 9900 10000 10100 10200 10300 10400 10500 10600 10700 10800 10900 11000 \n",
      "\n",
      "10  finished "
     ]
    }
   ],
   "source": [
    "number_of_saws = [] \n",
    "number_of_conformations=[]\n",
    "for i in range(1, 11):\n",
    "    c=[]\n",
    "    get_all_saws(c, i,start_conformation )\n",
    "    f = filter_conformations(c)\n",
    "    number_of_saws.append(len(c))\n",
    "    number_of_conformations.append(len(f))\n",
    "    print(i, \" finished\", end = \" \")\n",
    "    \n",
    "#тут осуществляется тупо перебор - это не очень хорошо "
   ]
  },
  {
   "cell_type": "code",
   "execution_count": 18,
   "metadata": {},
   "outputs": [
    {
     "name": "stdout",
     "output_type": "stream",
     "text": [
      "[4, 12, 36, 100, 284, 780, 2172, 5916, 16268, 44100]\n",
      "[1, 2, 5, 13, 36, 98, 272, 740, 2034, 5513]\n"
     ]
    }
   ],
   "source": [
    "print(number_of_saws)\n",
    "print(number_of_conformations)"
   ]
  },
  {
   "cell_type": "code",
   "execution_count": 107,
   "metadata": {},
   "outputs": [
    {
     "name": "stderr",
     "output_type": "stream",
     "text": [
      "No handles with labels found to put in legend.\n"
     ]
    },
    {
     "data": {
      "text/plain": [
       "<matplotlib.legend.Legend at 0x79e9f99b38>"
      ]
     },
     "execution_count": 107,
     "metadata": {},
     "output_type": "execute_result"
    },
    {
     "data": {
      "image/png": "[encoded data removed]",
      "text/plain": [
       "<Figure size 432x288 with 1 Axes>"
      ]
     },
     "metadata": {},
     "output_type": "display_data"
    }
   ],
   "source": [
    "plt.plot(range(1, 11), number_of_saws, 'o')\n",
    "plt.legend(loc='best')"
   ]
  },
  {
   "cell_type": "code",
   "execution_count": 108,
   "metadata": {},
   "outputs": [
    {
     "name": "stderr",
     "output_type": "stream",
     "text": [
      "No handles with labels found to put in legend.\n"
     ]
    },
    {
     "data": {
      "text/plain": [
       "<matplotlib.legend.Legend at 0x79e96b9898>"
      ]
     },
     "execution_count": 108,
     "metadata": {},
     "output_type": "execute_result"
    },
    {
     "data": {
      "image/png": "[encoded data removed]",
      "text/plain": [
       "<Figure size 432x288 with 1 Axes>"
      ]
     },
     "metadata": {},
     "output_type": "display_data"
    }
   ],
   "source": [
    "plt.plot(range(1, 11), number_of_saws, 'o')\n",
    "plt.legend(loc='best')"
   ]
  },
  {
   "cell_type": "markdown",
   "metadata": {},
   "source": [
    "Это просто графики всех случайных блужданий на коорднатной плоскости, стартующие с точки (0, 0) "
   ]
  },
  {
   "cell_type": "code",
   "execution_count": 1,
   "metadata": {
    "scrolled": false
   },
   "outputs": [
    {
     "ename": "NameError",
     "evalue": "name 'plt' is not defined",
     "output_type": "error",
     "traceback": [
      "\u001b[1;31m---------------------------------------------------------------------------\u001b[0m",
      "\u001b[1;31mNameError\u001b[0m                                 Traceback (most recent call last)",
      "\u001b[1;32m<ipython-input-1-3504abeb206b>\u001b[0m in \u001b[0;36m<module>\u001b[1;34m()\u001b[0m\n\u001b[1;32m----> 1\u001b[1;33m \u001b[0mplt\u001b[0m\u001b[1;33m.\u001b[0m\u001b[0mplot\u001b[0m\u001b[1;33m(\u001b[0m\u001b[0mrange\u001b[0m\u001b[1;33m(\u001b[0m\u001b[1;36m1\u001b[0m\u001b[1;33m,\u001b[0m \u001b[1;36m11\u001b[0m\u001b[1;33m)\u001b[0m\u001b[1;33m,\u001b[0m \u001b[0mnumber_of_conformations\u001b[0m\u001b[1;33m,\u001b[0m \u001b[1;34m'o'\u001b[0m\u001b[1;33m)\u001b[0m\u001b[1;33m\u001b[0m\u001b[0m\n\u001b[0m\u001b[0;32m      2\u001b[0m \u001b[0mplt\u001b[0m\u001b[1;33m.\u001b[0m\u001b[0mlegend\u001b[0m\u001b[1;33m(\u001b[0m\u001b[0mloc\u001b[0m\u001b[1;33m=\u001b[0m\u001b[1;34m'best'\u001b[0m\u001b[1;33m)\u001b[0m\u001b[1;33m\u001b[0m\u001b[0m\n",
      "\u001b[1;31mNameError\u001b[0m: name 'plt' is not defined"
     ]
    }
   ],
   "source": [
    "plt.plot(range(1, 11), number_of_conformations, 'o')\n",
    "plt.legend(loc='best')"
   ]
  },
  {
   "cell_type": "code",
   "execution_count": 9,
   "metadata": {},
   "outputs": [],
   "source": [
    "def end_to_end_distance(path):\n",
    "    distance = sqrt((path[-1][0]-path[0][0])**2+(path[-1][1]-path[0][1])**2)     \n",
    "    return distance "
   ]
  },
  {
   "cell_type": "code",
   "execution_count": 12,
   "metadata": {},
   "outputs": [
    {
     "name": "stdout",
     "output_type": "stream",
     "text": [
      "1  finished 2  finished 3  finished 4  finished 5  finished 6  finished 7  finished 8  finished 9  finished 10  finished "
     ]
    }
   ],
   "source": [
    "number_of_saws = [] \n",
    "means=[]\n",
    "#number_of_conformations=[]\n",
    "for i in range(1, 11):\n",
    "    c=[]\n",
    "    get_all_saws(c, i,start_conformation )\n",
    "    #f = filter_conformations(c)\n",
    "    number_of_saws.append(len(c))\n",
    "    dists=[]   \n",
    "\n",
    "    for j in c:\n",
    "        dists.append(end_to_end_distance(j))\n",
    "    sqrdists=[]  \n",
    "    for j in dists:\n",
    "        sqrdists.append(j*j)\n",
    "    \n",
    "    means.append(sum(sqrdists) / float(len(sqrdists)))\n",
    "    \n",
    "    \n",
    "    #number_of_conformations.append(len(f))\n",
    "    print(i, \" finished\", end = \" \")"
   ]
  },
  {
   "cell_type": "code",
   "execution_count": 3,
   "metadata": {},
   "outputs": [
    {
     "ename": "NameError",
     "evalue": "name 'means' is not defined",
     "output_type": "error",
     "traceback": [
      "\u001b[1;31m---------------------------------------------------------------------------\u001b[0m",
      "\u001b[1;31mNameError\u001b[0m                                 Traceback (most recent call last)",
      "\u001b[1;32m<ipython-input-3-78fe09a11c4b>\u001b[0m in \u001b[0;36m<module>\u001b[1;34m()\u001b[0m\n\u001b[1;32m----> 1\u001b[1;33m \u001b[0mplt\u001b[0m\u001b[1;33m.\u001b[0m\u001b[0mplot\u001b[0m\u001b[1;33m(\u001b[0m\u001b[0mrange\u001b[0m\u001b[1;33m(\u001b[0m\u001b[1;36m1\u001b[0m\u001b[1;33m,\u001b[0m \u001b[1;36m11\u001b[0m\u001b[1;33m)\u001b[0m\u001b[1;33m,\u001b[0m \u001b[0mmeans\u001b[0m\u001b[1;33m,\u001b[0m \u001b[1;34m'o'\u001b[0m\u001b[1;33m)\u001b[0m\u001b[1;33m\u001b[0m\u001b[0m\n\u001b[0m\u001b[0;32m      2\u001b[0m \u001b[0mplt\u001b[0m\u001b[1;33m.\u001b[0m\u001b[0mlegend\u001b[0m\u001b[1;33m(\u001b[0m\u001b[0mloc\u001b[0m\u001b[1;33m=\u001b[0m\u001b[1;34m'best'\u001b[0m\u001b[1;33m)\u001b[0m\u001b[1;33m\u001b[0m\u001b[0m\n",
      "\u001b[1;31mNameError\u001b[0m: name 'means' is not defined"
     ]
    }
   ],
   "source": [
    "plt.plot(range(1, 11), means, 'o')\n",
    "plt.legend(loc='best')"
   ]
  },
  {
   "cell_type": "code",
   "execution_count": null,
   "metadata": {},
   "outputs": [],
   "source": []
  },
  {
   "cell_type": "code",
   "execution_count": null,
   "metadata": {},
   "outputs": [],
   "source": []
  }
 ],
 "metadata": {
  "kernelspec": {
   "display_name": "Python 3",
   "language": "python",
   "name": "python3"
  },
  "language_info": {
   "codemirror_mode": {
    "name": "ipython",
    "version": 3
   },
   "file_extension": ".py",
   "mimetype": "text/x-python",
   "name": "python",
   "nbconvert_exporter": "python",
   "pygments_lexer": "ipython3",
   "version": "3.6.5"
  }
 },
 "nbformat": 4,
 "nbformat_minor": 2
}
