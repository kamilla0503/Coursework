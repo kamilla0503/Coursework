{
 "cells": [
  {
   "cell_type": "code",
   "execution_count": 1,
   "metadata": {},
   "outputs": [],
   "source": [
    "import matplotlib.pyplot as plt\n",
    "import numpy as np \n",
    "from math import sqrt \n",
    "from math import floor\n",
    "from math import ceil\n",
    "from math import exp \n",
    "import pickle\n",
    "from operator import itemgetter\n",
    "import time\n",
    "from datetime import timedelta\n",
    "import matplotlib\n",
    "from matplotlib import cm, colors\n",
    "from numpy import amin, amax, ravel\n",
    "\n",
    "import pylab\n"
   ]
  },
  {
   "cell_type": "code",
   "execution_count": 2,
   "metadata": {},
   "outputs": [],
   "source": [
    "def filter_conformations(saws ): \n",
    "    \"\"\"Функция получает на вход список блужданий на плоскости, в котором каждое блуждание представлено списком из координат - кортежом.\n",
    "    Осуществляет перебор списка. Вызывает функцию distance_between_saws.\n",
    "    Возвращает список блужданий без повторения конформаций.\"\"\"\n",
    "    result = []\n",
    "    result.append(saws[0])\n",
    "    #result = [saws[0]]\n",
    "    for i in range (1, len(saws)):\n",
    "        if(i%400==0):\n",
    "            print(i, end= \" \")\n",
    "        k=0\n",
    "        for conformation in result:\n",
    "            if(  distance_between_saws(conformation, saws[i] )== 0):\n",
    "                k=-1\n",
    "                break;\n",
    "        if(k==-1):\n",
    "            continue\n",
    "        else:\n",
    "            #if(saws[i])\n",
    "            result.append(saws[i])\n",
    "    return result "
   ]
  },
  {
   "cell_type": "code",
   "execution_count": 3,
   "metadata": {},
   "outputs": [],
   "source": [
    "def vector_for_distance(saw):\n",
    "    \"\"\"Принимает на вход конформацию(блуждание) на плоскости - список координат(кортежей).\n",
    "    Возвращает вектор, описывающий данную конформацию, согласно [1]\"\"\"\n",
    "    result = []\n",
    "    left = [[(0,1), (-1, 0)] , [(1, 0), (0, 1)], [(0, -1), (1, 0)], [(-1, 0), (0, -1)] ]\n",
    "    right = [ [(1, 0), (0, -1)], [(0,1), (1, 0)],  [(-1, 0), (0, 1)],  [(0, -1), (-1, 0)]  ]\n",
    "    for i in range(2, len(saw)):\n",
    "        steps = []\n",
    "        dx = saw[i-1][0] - saw[i-2][0]\n",
    "        dy =  saw[i-1][1] - saw[i-2][1]\n",
    "        steps.append((dx, dy))\n",
    "        dx = saw[i][0] - saw[i-1][0]\n",
    "        dy =  saw[i][1] - saw[i-1][1]\n",
    "        steps.append((dx, dy))\n",
    "        if(saw[i][0] == saw[i-1][0] and saw[i-1][0]==saw[i-2][0] or saw[i][1] == saw[i-1][1] and saw[i-1][1]==saw[i-2][1]):\n",
    "            result.append(0)\n",
    "        elif (steps in left):\n",
    "            result.append(-1)\n",
    "        else:\n",
    "            result.append(1)\n",
    "    return result "
   ]
  },
  {
   "cell_type": "code",
   "execution_count": 4,
   "metadata": {},
   "outputs": [],
   "source": [
    "def distance_between_saws(saw1, saw2):\n",
    "    \"\"\"Принимает на вход два блуждания(конформации) на плоскости и возвращает целое число - расстояние между ними согласно метрике, описанной в [1].\n",
    "    Вызывает функцию vector_for_distance для каждого переданного блуждания\"\"\"\n",
    "    v1 = 0\n",
    "    v2 = 0\n",
    "    v_minus = []\n",
    "    v_plus = [] \n",
    "    s1 =  vector_for_distance(saw1)\n",
    "    s2= vector_for_distance(saw2)\n",
    "    for i in range(len(s1)):\n",
    "        v1=v1+ abs( s1[i]-s2[i])\n",
    "        v2=v2+ abs( s1[i]+s2[i])\n",
    "    #print(saw1, \" \", s1)\n",
    "    #print(saw2, \" \", s2)\n",
    "    #print(min(v1, v2))\n",
    "    return min(v1, v2)"
   ]
  },
  {
   "cell_type": "code",
   "execution_count": 5,
   "metadata": {},
   "outputs": [],
   "source": [
    "steps = [(1, 0), (-1, 0), (0, 1),  (0, -1)]\n",
    "def get_all_conformations(length):\n",
    "    \"\"\"Создает список конформаций на плоскости.  Функция принимает один аргумент - длину (число остатков).\n",
    "    Возвращает список блужданий, в котором каждое блуждание представлено списком из координат\n",
    "    Данный вариант работает для длин равных или больше 2.\"\"\"\n",
    "    #if(length==3):\n",
    "        #return [[(0, 0), (1, 0), (2, 0)], [(0, 0), (1, 0), (1, 1)]]\n",
    " \n",
    "    if(length==2):\n",
    "        return [ [[(0,0)]]  ,[[(0, 0), (1, 0)] ]]\n",
    "    else:\n",
    "        result = get_all_conformations(length-1)\n",
    "        new_conformations = [] \n",
    "        for i in range(len(result[-1])):\n",
    "            #print(i, end = \"\\n\")\n",
    "            for step in steps:\n",
    "                new_point = (result[-1][i][-1][0]+step[0], result[-1][i][-1][1]+step[1] )\n",
    "                if new_point in result[-1][i]:\n",
    "                    #print(\"the same \", new_point)\n",
    "                    continue\n",
    "                temp = result[-1][i].copy()\n",
    "                temp.append(new_point)\n",
    "                new_conformations.append(temp)\n",
    "        #print(length, \" new  result is  \", new_conformations )\n",
    "    filtered = filter_conformations(new_conformations)\n",
    "    result.append(filtered)\n",
    "    #print(\"after filter \", filtered)\n",
    "    return result"
   ]
  },
  {
   "cell_type": "code",
   "execution_count": 6,
   "metadata": {},
   "outputs": [
    {
     "name": "stdout",
     "output_type": "stream",
     "text": [
      "400 400 800 1200 1600 2000 0:00:47.961247\n",
      "10\n"
     ]
    }
   ],
   "source": [
    "start_time = time.monotonic()\n",
    "\n",
    "conformations_10= get_all_conformations(10)\n",
    "\n",
    "end_time = time.monotonic()\n",
    "print(timedelta(seconds=end_time - start_time))\n",
    "#print(conformations_10)\n",
    "print(len(conformations_10))"
   ]
  },
  {
   "cell_type": "code",
   "execution_count": 7,
   "metadata": {},
   "outputs": [],
   "source": [
    "#with open('out_new_13.pickle', 'wb') as f:\n",
    "    #pickle.dump(conformations_10, f)"
   ]
  },
  {
   "cell_type": "code",
   "execution_count": 8,
   "metadata": {},
   "outputs": [],
   "source": [
    "steps = [(1, 0), (-1, 0), (0, 1),  (0, -1)]\n",
    "def calculate_contacts(saw):\n",
    "    \"\"\"Функция принимает на вход конформацию на плоскости(список координат). \n",
    "    Возвращает число топологических соседей для нее \"\"\"\n",
    "    k=0\n",
    "    for i in range(1, len(saw)-1):\n",
    "        not_topological=[saw[i-1], saw[i+1]]\n",
    "        for step in steps:\n",
    "            new_point = (saw[i][0]+step[0], saw[i][1]+step[1] )\n",
    "            if (new_point in saw and (new_point not in not_topological)):\n",
    "                k=k+1\n",
    "    for step in steps:\n",
    "        new_point_begin = (saw[0][0]+step[0], saw[0][1]+step[1] )\n",
    "        new_point_end= ( saw[-1][0]+step[0], saw[-1][1]+step[1])\n",
    "        if(new_point_begin in saw and new_point_begin!=saw[1]):\n",
    "            k=k+1\n",
    " \n",
    "        if( new_point_end in saw and new_point_end!=saw[-2]    ):\n",
    "            k=k+1\n",
    "        \n",
    "        \n",
    "    return k//2"
   ]
  },
  {
   "cell_type": "code",
   "execution_count": 9,
   "metadata": {},
   "outputs": [],
   "source": [
    "def count_saws_contact(saws):\n",
    "    \"\"\"Функция принимает список блужданий на плоскости. Возвращает словарь, в котором ключ - число топологических соседей,\n",
    "    а значение - число таких конформаций.\n",
    "    Максимальное число топологических соседей находится по формуле из [1]\"\"\"\n",
    "    n=len(saws[0])\n",
    "    m_1 = ceil(sqrt(n))\n",
    "    m = floor(sqrt(n))\n",
    "    if( n>m*m and m*m_1>=n ):\n",
    "        t_max =n+1 - (4*m+2)/2\n",
    "    elif (n>m*m_1 and n<=m_1*m_1):\n",
    "        t_max = n+1 - (4*m+4)/2\n",
    "    else:\n",
    "        t_max =  n+1 - (4*m)/2\n",
    "    \n",
    "    t_max=int(t_max)\n",
    "    print(t_max)\n",
    "    counts ={}\n",
    "    for i in range(t_max+1):\n",
    "        counts.update({i :0})\n",
    "    for saw in saws:\n",
    "        e=calculate_contacts(saw)\n",
    "        counts[e]=counts[e]+1\n",
    "    return counts"
   ]
  },
  {
   "cell_type": "code",
   "execution_count": 10,
   "metadata": {},
   "outputs": [],
   "source": [
    "class Protein(object):\n",
    "    def __init__(self, sequence, conformation):\n",
    "        self.sequence = sequence\n",
    "        self.conformation = conformation\n",
    "        \n",
    "    def count_proteins_contacts(self):\n",
    "        \"\"\"Для данного белка считает число топологических контактов HH и контакты HP/PP.\n",
    "        Возвращает кортеж из двух элементов: первый элемент - число контактов НН, второй элемент - остальные контакты.\"\"\"\n",
    "        hh=0\n",
    "        hp_pp = 0\n",
    "        steps = [(1, 0), (-1, 0), (0, 1),  (0, -1)]\n",
    "        for i in range(1, len(self.conformation)-1):\n",
    "            not_topological=[self.conformation [i-1], self.conformation[i+1]]\n",
    "            for step in steps:\n",
    "                new_point = (self.conformation[i][0]+step[0], self.conformation [i][1]+step[1] )\n",
    "                if (new_point in self.conformation  and (new_point not in not_topological)):\n",
    "                    position = self.conformation.index(new_point)\n",
    "                    if( self.sequence[position]==1 and self.sequence[i]==1 ):\n",
    "                        hh=hh+1\n",
    "                    else:\n",
    "                        hp_pp=hp_pp + 1 \n",
    "        for step in steps:\n",
    "            new_point_begin = (self.conformation[0][0]+step[0], self.conformation[0][1]+step[1] )\n",
    "            new_point_end= ( self.conformation[-1][0]+step[0], self.conformation [-1][1]+step[1])\n",
    "            if(new_point_begin in self.conformation  and new_point_begin!=self.conformation [1]):\n",
    "                position = self.conformation.index(new_point_begin)\n",
    "                if( self.sequence[position]==1 and self.sequence[0]==1 ):\n",
    "                    hh=hh+1\n",
    "                else:\n",
    "                    hp_pp=hp_pp + 1 \n",
    "            if( new_point_end in self.conformation  and new_point_end!=self.conformation[-2]):\n",
    "                position = self.conformation.index(new_point_end) \n",
    "                if( self.sequence[position]==1 and self.sequence[-1]==1 ):\n",
    "                    hh=hh+1\n",
    "                else:\n",
    "                    hp_pp=hp_pp + 1 \n",
    "        return (hh//2, hp_pp//2)"
   ]
  },
  {
   "cell_type": "code",
   "execution_count": 11,
   "metadata": {},
   "outputs": [],
   "source": [
    "def get_g_m(sequence, conformations=[]):\n",
    "    \"\"\"Функция, которая для данной цепочки создает словарь со следующим смыслом:\n",
    "    ключ - число топологических соседей НН,\n",
    "    значение - число конформаций с таким количеством топологических соседей НН для данной цепочки. \n",
    "    Функция принимает готовый список конформаций, иначе сгенерирует его сама \"\"\" \n",
    "    n=len(sequence)\n",
    "    m_1 = ceil(sqrt(n))\n",
    "    m = floor(sqrt(n))\n",
    "    if( n>m*m and m*m_1>=n ):\n",
    "        t_max =n+1 - (4*m+2)/2\n",
    "    elif (n>m*m_1 and n<=m_1*m_1):\n",
    "        t_max = n+1 - (4*m+4)/2\n",
    "    else:\n",
    "        t_max =  n+1 - (4*m)/2\n",
    "    \n",
    "    t_max=int(t_max) \n",
    "    counts ={}\n",
    "    #for i in range(t_max+1):\n",
    "        #counts.update({i :0})\n",
    "    if(len(conformations)==0):\n",
    "        conformations = get_all_conformations(len(sequence))\n",
    "    for c in conformations:\n",
    "        p = Protein(sequence, c)\n",
    "        \n",
    "        numbers =  p.count_proteins_contacts();\n",
    "        \n",
    "        #if(numbers[0]==t_max):\n",
    "            #print(c)\n",
    "        \n",
    "        if( -numbers[0] in counts): \n",
    "            counts[-numbers[0]] = counts[-numbers[0]] +1\n",
    "        else:\n",
    "            counts.update({-numbers[0] :1})\n",
    "    \n",
    "    \n",
    "    \n",
    "    return counts "
   ]
  },
  {
   "cell_type": "code",
   "execution_count": 12,
   "metadata": {},
   "outputs": [
    {
     "data": {
      "text/plain": [
       "{0: 666, -1: 672, -2: 425, -3: 173, -4: 98}"
      ]
     },
     "execution_count": 12,
     "metadata": {},
     "output_type": "execute_result"
    }
   ],
   "source": [
    "example = get_g_m([1,1,1,1,1,1,1,1,1, 1], conformations_10[-1])\n",
    "maxi = max(example.keys() )\n",
    "example"
   ]
  },
  {
   "cell_type": "markdown",
   "metadata": {},
   "source": [
    "### Предыдущий вариант подсчета \n",
    "Энергия цепочки:\n",
    "$ E_\\mu = -m$, где m - число топологических контактов НН в состоянии $ \\mu $ \n",
    "\n",
    "$Z = \\sum_{E=0}^{s} g(E)  exp(-(E) \\frac{\\epsilon}{kT} )$\n",
    "\n",
    "s - Минимальная возможная энергия (при наибольшем числе тооплогических контактов НН). \n",
    "\n",
    "$\\beta = \\frac{\\epsilon}{kT} > 0 $"
   ]
  },
  {
   "cell_type": "code",
   "execution_count": 13,
   "metadata": {},
   "outputs": [],
   "source": [
    "def mean_energy(g_m_for_sequence,  e_over_t = 1 ):\n",
    "      \n",
    "    Z = 0\n",
    "    E_mean = 0\n",
    "    s = max(g_m_for_sequence.keys() )\n",
    "   \n",
    "        \n",
    "    for g in g_m_for_sequence:\n",
    "        Z=Z+exp(-g/e_over_t)*g_m_for_sequence[g]\n",
    "        E_mean = E_mean + g * exp(-g/e_over_t)*g_m_for_sequence[g] \n",
    "        #Z=Z+exp(-(s-g)/e_over_t)*g_m_for_sequence[g]\n",
    "        #E_mean = E_mean + (s-g) * exp(-(s-g)/e_over_t)*g_m_for_sequence[g] \n",
    "                \n",
    "    E_mean=E_mean/Z\n",
    "                \n",
    "    return E_mean"
   ]
  },
  {
   "cell_type": "code",
   "execution_count": 14,
   "metadata": {},
   "outputs": [],
   "source": [
    "sequence1 = [1,1,1,1,1,0,0,0,0,0]\n",
    "sequence2 = [1,0,1,0,0,1,0,0,1,1 ]\n",
    "sequence3 = [1,1,1,1,1,1,1,1,1,1 ]\n",
    "g_m_for_sequence1 = get_g_m(sequence1, conformations_10[-1])\n",
    "g_m_for_sequence2 = get_g_m(sequence2, conformations_10[-1])\n",
    "g_m_for_sequence3 = get_g_m(sequence3, conformations_10[-1])\n",
    "ts = np.linspace(0.01, 4.7, 150)\n",
    " \n",
    "mean_e_on_t1 = np.zeros(len(ts))\n",
    "mean_e_on_t2 = np.zeros(len(ts))\n",
    "mean_e_on_t3 = np.zeros(len(ts))\n",
    "for i in range(len(ts)):\n",
    "    mean_e_on_t1[i] = mean_energy(g_m_for_sequence1 , ts[i])\n",
    "    mean_e_on_t2[i] = mean_energy(g_m_for_sequence2 , ts[i])\n",
    "    mean_e_on_t3[i] = mean_energy(g_m_for_sequence3 , ts[i]) "
   ]
  },
  {
   "cell_type": "code",
   "execution_count": 15,
   "metadata": {},
   "outputs": [
    {
     "data": {
      "text/plain": [
       "<matplotlib.legend.Legend at 0x7fa5422ec9b0>"
      ]
     },
     "execution_count": 15,
     "metadata": {},
     "output_type": "execute_result"
    },
    {
     "data": {
      "image/png": "[encoded data removed]",
      "text/plain": [
       "<Figure size 720x432 with 1 Axes>"
      ]
     },
     "metadata": {
      "needs_background": "light"
     },
     "output_type": "display_data"
    }
   ],
   "source": [
    "plt.figure(figsize=(10, 6))\n",
    "plt.plot(ts, mean_e_on_t1, '-', label =\"НННННРРРРР\", lw=2.5)\n",
    "plt.plot(ts, mean_e_on_t2, '-', label =\"НРНРРНРРНН\", lw=2.5)\n",
    "plt.plot(ts, mean_e_on_t3, '-', label =\"НHНHHНHHНН\", lw=2.5)\n",
    "plt.xlabel(r\"$T k/\\epsilon$\", fontsize = 14)\n",
    "plt.ylabel(r\"<E>\", fontsize=14)\n",
    "plt.legend(loc='best',fontsize=14)"
   ]
  },
  {
   "cell_type": "markdown",
   "metadata": {},
   "source": [
    "##### + длина"
   ]
  },
  {
   "cell_type": "code",
   "execution_count": 58,
   "metadata": {},
   "outputs": [],
   "source": [
    "\n",
    "f = 0.05"
   ]
  },
  {
   "cell_type": "code",
   "execution_count": 59,
   "metadata": {},
   "outputs": [],
   "source": [
    "def mean_energy_for_n(all_g_on_n, f, e_over_t = 1 ):\n",
    "      \n",
    "    Z = 0\n",
    "    E_mean = 0\n",
    "    for  i in range(len(all_g_on_n)):  \n",
    "        for g in all_g_on_n[i]:\n",
    " \n",
    "            Z=Z+exp(  -(g -f*(i+1) ) /e_over_t)*all_g_on_n[i][g]\n",
    "            E_mean = E_mean + (g -f*(i+1) ) * exp(   -(g -f*(i+1) ) /e_over_t)*all_g_on_n[i][g] \n",
    "        \n",
    "    E_mean=E_mean/Z\n",
    "                \n",
    "    return E_mean"
   ]
  },
  {
   "cell_type": "code",
   "execution_count": 60,
   "metadata": {},
   "outputs": [],
   "source": [
    "#sequence1 = [1,1,1,1,1,0,0,0,0,0]\n",
    "sequence1 = [1,1,1,0,1,1,1,0,1,1]\n",
    "sequence2 = [1,0,1,0,0,1,0,0,1,1 ]\n",
    "sequence3 = [1,1,1,1,1,1,1,1,1,1 ]\n",
    "sequence4 = [0,0,0,0,0,0,0,0,0,0]\n",
    "#g_m_for_sequence1 = get_g_m(sequence1, conformations_10[-1])\n",
    "#g_m_for_sequence2 = get_g_m(sequence2, conformations_10[-1])\n",
    "#g_m_for_sequence3 = get_g_m(sequence3, conformations_10[-1])\n",
    "\n",
    "g_m_for_sequence1 = []\n",
    "g_m_for_sequence2 = []\n",
    "g_m_for_sequence3 = []\n",
    "g_m_for_sequence4 = []\n",
    "\n",
    "\n",
    "#N = len(sequence1) \n",
    "N = 10\n",
    "for i in range(N):\n",
    "    g_m_for_sequence1.append( get_g_m(sequence1[:i+1], conformations_10[i]) )\n",
    "    g_m_for_sequence2.append( get_g_m(sequence2[:i+1], conformations_10[i]) )\n",
    "    g_m_for_sequence3.append( get_g_m(sequence3[:i+1], conformations_10[i]) )\n",
    "    g_m_for_sequence4.append( get_g_m(sequence4[:i+1], conformations_10[i]) )\n",
    "ts = np.linspace(0.01, 3.7, 150)\n",
    " \n",
    "mean_e_on_t1 = np.zeros(len(ts))\n",
    "mean_e_on_t2 = np.zeros(len(ts))\n",
    "mean_e_on_t3 = np.zeros(len(ts))\n",
    "mean_e_on_t4 = np.zeros(len(ts))\n",
    "for i in range(len(ts)):\n",
    "    mean_e_on_t1[i] = mean_energy_for_n(g_m_for_sequence1 , f,ts[i])\n",
    "    mean_e_on_t2[i] = mean_energy_for_n(g_m_for_sequence2 , f,ts[i])\n",
    "    mean_e_on_t3[i] = mean_energy_for_n(g_m_for_sequence3 , f,ts[i]) \n",
    "    mean_e_on_t4[i] = mean_energy_for_n(g_m_for_sequence4 , f,ts[i]) "
   ]
  },
  {
   "cell_type": "code",
   "execution_count": 61,
   "metadata": {},
   "outputs": [
    {
     "data": {
      "text/plain": [
       "<matplotlib.legend.Legend at 0x7fa540bd3358>"
      ]
     },
     "execution_count": 61,
     "metadata": {},
     "output_type": "execute_result"
    },
    {
     "data": {
      "image/png": "[encoded data removed]",
      "text/plain": [
       "<Figure size 720x432 with 1 Axes>"
      ]
     },
     "metadata": {
      "needs_background": "light"
     },
     "output_type": "display_data"
    }
   ],
   "source": [
    "plt.figure(figsize=(10, 6))\n",
    "#plt.plot(ts, mean_e_on_t1, '-', label =\"НННННРРРРР\", lw=2.5)\n",
    "plt.plot(ts, mean_e_on_t1, '-', label =\"НННPНHHРHH\", lw=2.5)\n",
    "plt.plot(ts, mean_e_on_t2, '-', label =\"НРНРРНРРНН\", lw=2.5)\n",
    "plt.plot(ts, mean_e_on_t3, '-', label =\"НHНHHНHHНН\", lw=2.5)\n",
    "plt.plot(ts, mean_e_on_t4, '-', label =\"PPPPPPPPPP\", lw=2.5)\n",
    "plt.xlabel(r\"$T k/\\epsilon$\", fontsize = 14)\n",
    "plt.ylabel(r\"<E>\", fontsize=14)\n",
    "plt.legend(loc='best',fontsize=14)"
   ]
  },
  {
   "cell_type": "code",
   "execution_count": 68,
   "metadata": {},
   "outputs": [],
   "source": [
    "def mean_heat_capacity_t_n(all_g_on_n, f, e_over_t = 1):\n",
    "      \n",
    "    Z = 0\n",
    "    E_mean = 0\n",
    "    E_mean_sq = 0\n",
    "    for  i in range(len(all_g_on_n)):  \n",
    "        for g in all_g_on_n[i]:\n",
    " \n",
    "            Z=Z+exp(  -(g -f*(i+1) ) /e_over_t)*all_g_on_n[i][g]\n",
    "            E_mean = E_mean + (g -f*(i+1) ) * exp(   -(g -f*(i+1) ) /e_over_t)*all_g_on_n[i][g]\n",
    "            E_mean_sq = E_mean_sq + (g -f*(i+1) )*(g -f*(i+1) ) * exp(   -(g -f*(i+1) ) /e_over_t)*all_g_on_n[i][g]\n",
    "        \n",
    "    E_mean=E_mean/Z\n",
    "    E_mean_sq=E_mean_sq/Z\n",
    "\n",
    "    \n",
    "    return E_mean_sq - E_mean*E_mean"
   ]
  },
  {
   "cell_type": "code",
   "execution_count": 69,
   "metadata": {},
   "outputs": [],
   "source": [
    "mean_heat_on_t1 = np.zeros(len(ts))\n",
    "mean_heat_on_t2 = np.zeros(len(ts))\n",
    "mean_heat_on_t3 = np.zeros(len(ts))\n",
    "mean_heat_on_t4 = np.zeros(len(ts))\n",
    "for i in range(len(ts)):\n",
    "    mean_heat_on_t1[i] = mean_heat_capacity_t_n(g_m_for_sequence1 , f,ts[i])\n",
    "    mean_heat_on_t2[i] = mean_heat_capacity_t_n(g_m_for_sequence2 , f,ts[i])\n",
    "    mean_heat_on_t3[i] = mean_heat_capacity_t_n(g_m_for_sequence3 , f,ts[i]) \n",
    "    mean_heat_on_t4[i] = mean_heat_capacity_t_n(g_m_for_sequence4 , f,ts[i]) "
   ]
  },
  {
   "cell_type": "code",
   "execution_count": 70,
   "metadata": {},
   "outputs": [
    {
     "data": {
      "text/plain": [
       "<matplotlib.legend.Legend at 0x7fa540a2e860>"
      ]
     },
     "execution_count": 70,
     "metadata": {},
     "output_type": "execute_result"
    },
    {
     "data": {
      "image/png": "[encoded data removed]",
      "text/plain": [
       "<Figure size 720x432 with 1 Axes>"
      ]
     },
     "metadata": {
      "needs_background": "light"
     },
     "output_type": "display_data"
    }
   ],
   "source": [
    "plt.figure(figsize=(10, 6))\n",
    "#plt.plot(ts, mean_e_on_t1, '-', label =\"НННННРРРРР\", lw=2.5)\n",
    "plt.plot(ts, mean_heat_on_t1, '-', label =\"НННPНHHРHH\", lw=2.5)\n",
    "plt.plot(ts, mean_heat_on_t2, '-', label =\"НРНРРНРРНН\", lw=2.5)\n",
    "plt.plot(ts, mean_heat_on_t3, '-', label =\"НHНHHНHHНН\", lw=2.5)\n",
    "plt.plot(ts, mean_heat_on_t4, '-', label =\"PPPPPPPPPP\", lw=2.5)\n",
    "plt.xlabel(r\"$T k/\\epsilon$\", fontsize = 14)\n",
    "plt.ylabel(r\"<E>\", fontsize=14)\n",
    "plt.legend(loc='best',fontsize=14)"
   ]
  },
  {
   "cell_type": "code",
   "execution_count": null,
   "metadata": {},
   "outputs": [],
   "source": []
  },
  {
   "cell_type": "code",
   "execution_count": null,
   "metadata": {},
   "outputs": [],
   "source": []
  },
  {
   "cell_type": "code",
   "execution_count": null,
   "metadata": {},
   "outputs": [],
   "source": []
  },
  {
   "cell_type": "code",
   "execution_count": 20,
   "metadata": {},
   "outputs": [],
   "source": [
    "#with open('out_13.pickle', 'rb') as f:\n",
    "    #data_new = pickle.load(f)"
   ]
  },
  {
   "cell_type": "code",
   "execution_count": null,
   "metadata": {},
   "outputs": [],
   "source": []
  }
 ],
 "metadata": {
  "kernelspec": {
   "display_name": "Python 3",
   "language": "python",
   "name": "python3"
  },
  "language_info": {
   "codemirror_mode": {
    "name": "ipython",
    "version": 3
   },
   "file_extension": ".py",
   "mimetype": "text/x-python",
   "name": "python",
   "nbconvert_exporter": "python",
   "pygments_lexer": "ipython3",
   "version": "3.7.3"
  }
 },
 "nbformat": 4,
 "nbformat_minor": 2
}
