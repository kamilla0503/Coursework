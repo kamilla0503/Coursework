{
 "cells": [
  {
   "cell_type": "code",
   "execution_count": 113,
   "metadata": {},
   "outputs": [],
   "source": [
    "import matplotlib.pyplot as plt\n",
    "import numpy as np \n",
    "from math import sqrt \n",
    "from math import floor\n",
    "from math import ceil\n",
    "import pickle"
   ]
  },
  {
   "cell_type": "code",
   "execution_count": 23,
   "metadata": {},
   "outputs": [],
   "source": [
    "def filter_conformations(saws ): \n",
    "    \"\"\"Функция получает на вход список блужданий на плоскости, в котором каждое блуждание представлено списком из координат - кортежом.\n",
    "    Осуществляет перебор списка. Вызывает функцию distance_between_saws.\n",
    "    Возвращает список блужданий без повторения конформаций.\"\"\"\n",
    "    result = []\n",
    "    result.append(saws[0])\n",
    "    #result = [saws[0]]\n",
    "    for i in range (1, len(saws)):\n",
    "        if(i%100==0):\n",
    "            print(i, end= \" \")\n",
    "        k=0\n",
    "        for conformation in result:\n",
    "            if(  distance_between_saws(conformation, saws[i] )== 0):\n",
    "                k=-1\n",
    "                break;\n",
    "        if(k==-1):\n",
    "            continue\n",
    "        else:\n",
    "            #if(saws[i])\n",
    "            result.append(saws[i])\n",
    "    return result "
   ]
  },
  {
   "cell_type": "code",
   "execution_count": 16,
   "metadata": {},
   "outputs": [],
   "source": [
    "def vector_for_distance(saw):\n",
    "    \"\"\"Принимает на вход конформацию(блуждание) на плоскости - список координат(кортежей).\n",
    "    Возвращает вектор, описывающий данную конформацию, согласно [1]\"\"\"\n",
    "    result = []\n",
    "    left = [[(0,1), (-1, 0)] , [(1, 0), (0, 1)], [(0, -1), (1, 0)], [(-1, 0), (0, -1)] ]\n",
    "    right = [ [(1, 0), (0, -1)], [(0,1), (1, 0)],  [(-1, 0), (0, 1)],  [(0, -1), (-1, 0)]  ]\n",
    "    for i in range(2, len(saw)):\n",
    "        steps = []\n",
    "        dx = saw[i-1][0] - saw[i-2][0]\n",
    "        dy =  saw[i-1][1] - saw[i-2][1]\n",
    "        steps.append((dx, dy))\n",
    "        dx = saw[i][0] - saw[i-1][0]\n",
    "        dy =  saw[i][1] - saw[i-1][1]\n",
    "        steps.append((dx, dy))\n",
    "        if(saw[i][0] == saw[i-1][0] and saw[i-1][0]==saw[i-2][0] or saw[i][1] == saw[i-1][1] and saw[i-1][1]==saw[i-2][1]):\n",
    "            result.append(0)\n",
    "        elif (steps in left):\n",
    "            result.append(-1)\n",
    "        else:\n",
    "            result.append(1)\n",
    "    return result "
   ]
  },
  {
   "cell_type": "code",
   "execution_count": 20,
   "metadata": {},
   "outputs": [],
   "source": [
    "def distance_between_saws(saw1, saw2):\n",
    "    \"\"\"Принимает на вход два блуждания(конформации) на плоскости и возвращает целое число - расстояние между ними согласно метрике, описанной в [1].\n",
    "    Вызывает функцию vector_for_distance для каждого переданного блуждания\"\"\"\n",
    "    v1 = 0\n",
    "    v2 = 0\n",
    "    v_minus = []\n",
    "    v_plus = [] \n",
    "    s1 =  vector_for_distance(saw1)\n",
    "    s2= vector_for_distance(saw2)\n",
    "    for i in range(len(s1)):\n",
    "        v1=v1+ abs( s1[i]-s2[i])\n",
    "        v2=v2+ abs( s1[i]+s2[i])\n",
    "    #print(saw1, \" \", s1)\n",
    "    #print(saw2, \" \", s2)\n",
    "    #print(min(v1, v2))\n",
    "    return min(v1, v2)"
   ]
  },
  {
   "cell_type": "code",
   "execution_count": 22,
   "metadata": {},
   "outputs": [],
   "source": [
    "steps = [(1, 0), (-1, 0), (0, 1),  (0, -1)]\n",
    "def get_all_conformations(length):\n",
    "    \"\"\"Создает список конформаций на плоскости.  Функция принимает один аргумент - длину (число остатков).\n",
    "    Возвращает список блужданий, в котором каждое блуждание представлено списком из координат\"\"\"\n",
    "    if(length==3):\n",
    "        return [[(0, 0), (1, 0), (2, 0)], [(0, 0), (1, 0), (1, 1)]]\n",
    "    else:\n",
    "        result = get_all_conformations(length-1)\n",
    "        new_conformations = [] \n",
    "        for i in range(len(result)):\n",
    "            #print(i, end = \"\\n\")\n",
    "            for step in steps:\n",
    "                new_point = (result[i][-1][0]+step[0], result[i][-1][1]+step[1] )\n",
    "                if new_point in result[i]:\n",
    "                    #print(\"the same \", new_point)\n",
    "                    continue\n",
    "                temp = result[i].copy()\n",
    "                temp.append(new_point)\n",
    "                new_conformations.append(temp)\n",
    "        #print(length, \" new  result is  \", new_conformations )\n",
    "    filtered = filter_conformations(new_conformations)\n",
    "    #print(\"after filter \", filtered)\n",
    "    return filtered"
   ]
  },
  {
   "cell_type": "code",
   "execution_count": 136,
   "metadata": {},
   "outputs": [
    {
     "name": "stdout",
     "output_type": "stream",
     "text": [
      "100 200 100 200 300 400 500 600 700 100 200 300 400 500 600 700 800 900 1000 1100 1200 1300 1400 1500 1600 1700 1800 1900 2000 2034\n"
     ]
    }
   ],
   "source": [
    "q = get_all_conformations(10)\n",
    "print(len(q))"
   ]
  },
  {
   "cell_type": "markdown",
   "metadata": {},
   "source": [
    "Для длины 10 получается 2034 конформации. Точно такой же результат описан в [1]"
   ]
  },
  {
   "cell_type": "code",
   "execution_count": 59,
   "metadata": {},
   "outputs": [],
   "source": [
    "with open('out.pickle', 'wb') as f:\n",
    "    pickle.dump(q, f)"
   ]
  },
  {
   "cell_type": "code",
   "execution_count": 8,
   "metadata": {},
   "outputs": [
    {
     "name": "stdout",
     "output_type": "stream",
     "text": [
      "3  finished 4  finished 5  finished 6  finished 7  finished 100 200 8  finished 100 200 100 200 300 400 500 600 700 9  finished 100 200 100 200 300 400 500 600 700 100 200 300 400 500 600 700 800 900 1000 1100 1200 1300 1400 1500 1600 1700 1800 1900 2000 10  finished "
     ]
    }
   ],
   "source": [
    "number_of_conformations=[]\n",
    "for i in range(3, 11):\n",
    "    c = get_all_conformations(i)\n",
    "    number_of_conformations.append(len(c))\n",
    "    print(i, \" finished\", end = \" \")"
   ]
  },
  {
   "cell_type": "code",
   "execution_count": 31,
   "metadata": {},
   "outputs": [],
   "source": [
    "approximate = []\n",
    "two =[]\n",
    "for i in range(3, 11):\n",
    "    approximate.append(2.718**(i-1))\n",
    "    two.append(2**i)"
   ]
  },
  {
   "cell_type": "code",
   "execution_count": 36,
   "metadata": {},
   "outputs": [
    {
     "data": {
      "text/plain": [
       "<matplotlib.legend.Legend at 0xfb556ac668>"
      ]
     },
     "execution_count": 36,
     "metadata": {},
     "output_type": "execute_result"
    },
    {
     "data": {
      "image/png": "[encoded data removed]",
      "text/plain": [
       "<Figure size 432x288 with 1 Axes>"
      ]
     },
     "metadata": {},
     "output_type": "display_data"
    }
   ],
   "source": [
    "plt.plot(range(3, 11), number_of_conformations, 'o', label = \"Число конформаций \")\n",
    "plt.plot(range(3, 11), approximate, 'o', label = \" 2.718^(n-1) \", alpha = 0.5)\n",
    "plt.plot(range(3, 11), two, 'o', label = \" 2.718^(n-1) \", alpha=0.4)\n",
    "plt.legend(loc='best')"
   ]
  },
  {
   "cell_type": "markdown",
   "metadata": {},
   "source": [
    "Число конформаций (блужданий без самопересечений) растет экспоненциально. Это также показывается во второй главе [2]"
   ]
  },
  {
   "cell_type": "code",
   "execution_count": 24,
   "metadata": {},
   "outputs": [],
   "source": [
    "def end_to_end_distance(path):\n",
    "    \"\"\"Евклидова метрика\"\"\"\n",
    "    distance = sqrt((path[-1][0]-path[0][0])**2+(path[-1][1]-path[0][1])**2)     \n",
    "    return distance "
   ]
  },
  {
   "cell_type": "code",
   "execution_count": 109,
   "metadata": {},
   "outputs": [],
   "source": [
    "steps = [(1, 0), (-1, 0), (0, 1),  (0, -1)]\n",
    "def calculate_contacts(saw):\n",
    "    \"\"\"Функция принимает на вход конформацию на плоскости(список координат). \n",
    "    Возвращает число топологических соседей для нее \"\"\"\n",
    "    k=0\n",
    "    for i in range(1, len(saw)-1):\n",
    "        not_topological=[saw[i-1], saw[i+1]]\n",
    "        for step in steps:\n",
    "            new_point = (saw[i][0]+step[0], saw[i][1]+step[1] )\n",
    "            if (new_point in saw and (new_point not in not_topological)):\n",
    "                k=k+1\n",
    "    for step in steps:\n",
    "        new_point_begin = (saw[0][0]+step[0], saw[0][1]+step[1] )\n",
    "        new_point_end= ( saw[-1][0]+step[0], saw[-1][1]+step[1])\n",
    "        if(new_point_begin in saw and new_point_begin!=saw[1]):\n",
    "            k=k+1\n",
    "        if( new_point_end in saw and new_point_end!=saw[-2]    ):\n",
    "            k=k+1\n",
    "        \n",
    "        \n",
    "    return k//2\n",
    "        "
   ]
  },
  {
   "cell_type": "code",
   "execution_count": 110,
   "metadata": {},
   "outputs": [
    {
     "data": {
      "text/plain": [
       "[(0, 0), (1, 0), (2, 0), (2, 1), (1, 1), (0, 1), (0, 2)]"
      ]
     },
     "execution_count": 110,
     "metadata": {},
     "output_type": "execute_result"
    }
   ],
   "source": [
    "e=22\n",
    "q[e]"
   ]
  },
  {
   "cell_type": "code",
   "execution_count": 111,
   "metadata": {},
   "outputs": [
    {
     "data": {
      "text/plain": [
       "2"
      ]
     },
     "execution_count": 111,
     "metadata": {},
     "output_type": "execute_result"
    }
   ],
   "source": [
    "calculate_contacts(q[e])"
   ]
  },
  {
   "cell_type": "code",
   "execution_count": 147,
   "metadata": {},
   "outputs": [],
   "source": [
    "def count_saws_contact(saws):\n",
    "    \"\"\"Функция принимает список блужданий на плоскости. Возвращает словарь, в котором ключ - число топологических соседей,\n",
    "    а значение - число таких конформаций.\n",
    "    Максимальное число топологических соседей находится по формуле из [1]\"\"\"\n",
    "    n=len(saws[0])\n",
    "    m_1 = ceil(sqrt(n))\n",
    "    m = floor(sqrt(n))\n",
    "    print(n, \" \", m, \" \", m_1)\n",
    "    if( n>m*m and m*m_1>=n ):\n",
    "        t_max =n+1 - (4*m+2)/2\n",
    "    elif (n>m*m_1 and n<=m_1*m_1):\n",
    "        t_max = n+1 - (4*m+4)/2\n",
    "    else:\n",
    "        t_max =  n+1 - (4*m)/2\n",
    "    \n",
    "    t_max=int(t_max)\n",
    "    print(t_max)\n",
    "    counts ={}\n",
    "    for i in range(t_max+1):\n",
    "        counts.update({i :0})\n",
    "    for saw in saws:\n",
    "        e=calculate_contacts(saw)\n",
    "        counts[e]=counts[e]+1\n",
    "    return counts"
   ]
  },
  {
   "cell_type": "code",
   "execution_count": 145,
   "metadata": {},
   "outputs": [
    {
     "name": "stdout",
     "output_type": "stream",
     "text": [
      "10   3   4\n",
      "4\n",
      "{0: 666, 1: 672, 2: 425, 3: 173, 4: 98}\n"
     ]
    }
   ],
   "source": [
    "d = count_saws_contact(q)\n",
    "print(d)"
   ]
  },
  {
   "cell_type": "markdown",
   "metadata": {},
   "source": [
    "666 + 672 + 425 + 173 + 98 = 2034"
   ]
  },
  {
   "cell_type": "code",
   "execution_count": 146,
   "metadata": {},
   "outputs": [
    {
     "data": {
      "image/png": "[encoded data removed]",
      "text/plain": [
       "<Figure size 432x288 with 1 Axes>"
      ]
     },
     "metadata": {},
     "output_type": "display_data"
    }
   ],
   "source": [
    "plt.bar(list(d.keys()), d.values(), color='g')\n",
    "plt.show()"
   ]
  },
  {
   "cell_type": "markdown",
   "metadata": {},
   "source": [
    "Гистограмма показывает, сколько существует различных конформаций для данного числа топологических соседей. \n",
    "Я сравнила эту гистаграмма с гистограммой из статьи (там она показана для последовательности из H), все нормально "
   ]
  },
  {
   "cell_type": "code",
   "execution_count": null,
   "metadata": {},
   "outputs": [],
   "source": []
  },
  {
   "cell_type": "markdown",
   "metadata": {},
   "source": [
    "# References\n",
    "\n",
    "1) A Lattice Statistical Mechanics Model of the Conformational and Sequence Spaces of Proteins, Kit Fun Lau and Ken A. Dill, Macromolecules 1989 \n",
    "\n",
    "2) Lattice Models of Polymers, Carlo Vanderzande, 2008"
   ]
  },
  {
   "cell_type": "code",
   "execution_count": null,
   "metadata": {},
   "outputs": [],
   "source": []
  }
 ],
 "metadata": {
  "kernelspec": {
   "display_name": "Python 3",
   "language": "python",
   "name": "python3"
  },
  "language_info": {
   "codemirror_mode": {
    "name": "ipython",
    "version": 3
   },
   "file_extension": ".py",
   "mimetype": "text/x-python",
   "name": "python",
   "nbconvert_exporter": "python",
   "pygments_lexer": "ipython3",
   "version": "3.6.5"
  }
 },
 "nbformat": 4,
 "nbformat_minor": 2
}
